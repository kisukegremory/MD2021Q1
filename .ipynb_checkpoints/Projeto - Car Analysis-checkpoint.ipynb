{
 "cells": [
  {
   "cell_type": "code",
   "execution_count": 37,
   "metadata": {},
   "outputs": [],
   "source": [
    "import pandas as pd\n",
    "import numpy as np\n",
    "import os\n",
    "import warnings\n",
    "\n",
    "warnings.filterwarnings(\"ignore\")"
   ]
  },
  {
   "cell_type": "code",
   "execution_count": 2,
   "metadata": {},
   "outputs": [
    {
     "name": "stdout",
     "output_type": "stream",
     "text": [
      "audi.csv - Nulls: 0\n",
      "ford.csv - Nulls: 0\n",
      "merc.csv - Nulls: 0\n",
      "skoda.csv - Nulls: 0\n",
      "toyota.csv - Nulls: 0\n",
      "vauxhall.csv - Nulls: 0\n",
      "vw.csv - Nulls: 0\n"
     ]
    },
    {
     "data": {
      "text/html": [
       "<div>\n",
       "<style scoped>\n",
       "    .dataframe tbody tr th:only-of-type {\n",
       "        vertical-align: middle;\n",
       "    }\n",
       "\n",
       "    .dataframe tbody tr th {\n",
       "        vertical-align: top;\n",
       "    }\n",
       "\n",
       "    .dataframe thead th {\n",
       "        text-align: right;\n",
       "    }\n",
       "</style>\n",
       "<table border=\"1\" class=\"dataframe\">\n",
       "  <thead>\n",
       "    <tr style=\"text-align: right;\">\n",
       "      <th></th>\n",
       "      <th>model</th>\n",
       "      <th>year</th>\n",
       "      <th>price</th>\n",
       "      <th>transmission</th>\n",
       "      <th>mileage</th>\n",
       "      <th>fuelType</th>\n",
       "      <th>tax</th>\n",
       "      <th>mpg</th>\n",
       "      <th>engineSize</th>\n",
       "      <th>car</th>\n",
       "    </tr>\n",
       "  </thead>\n",
       "  <tbody>\n",
       "    <tr>\n",
       "      <th>16427</th>\n",
       "      <td>Mondeo</td>\n",
       "      <td>2015</td>\n",
       "      <td>10995</td>\n",
       "      <td>Manual</td>\n",
       "      <td>66509</td>\n",
       "      <td>Diesel</td>\n",
       "      <td>125</td>\n",
       "      <td>58.9</td>\n",
       "      <td>2.0</td>\n",
       "      <td>ford</td>\n",
       "    </tr>\n",
       "    <tr>\n",
       "      <th>573</th>\n",
       "      <td>A1</td>\n",
       "      <td>2016</td>\n",
       "      <td>13995</td>\n",
       "      <td>Manual</td>\n",
       "      <td>8577</td>\n",
       "      <td>Petrol</td>\n",
       "      <td>30</td>\n",
       "      <td>55.4</td>\n",
       "      <td>1.4</td>\n",
       "      <td>audi</td>\n",
       "    </tr>\n",
       "    <tr>\n",
       "      <th>6718</th>\n",
       "      <td>T-Cross</td>\n",
       "      <td>2019</td>\n",
       "      <td>18225</td>\n",
       "      <td>Manual</td>\n",
       "      <td>6000</td>\n",
       "      <td>Petrol</td>\n",
       "      <td>145</td>\n",
       "      <td>47.9</td>\n",
       "      <td>1.0</td>\n",
       "      <td>vw</td>\n",
       "    </tr>\n",
       "    <tr>\n",
       "      <th>7352</th>\n",
       "      <td>Polo</td>\n",
       "      <td>2019</td>\n",
       "      <td>12995</td>\n",
       "      <td>Manual</td>\n",
       "      <td>11756</td>\n",
       "      <td>Petrol</td>\n",
       "      <td>145</td>\n",
       "      <td>48.7</td>\n",
       "      <td>1.0</td>\n",
       "      <td>vw</td>\n",
       "    </tr>\n",
       "    <tr>\n",
       "      <th>12354</th>\n",
       "      <td>Focus</td>\n",
       "      <td>2019</td>\n",
       "      <td>17991</td>\n",
       "      <td>Manual</td>\n",
       "      <td>1232</td>\n",
       "      <td>Diesel</td>\n",
       "      <td>150</td>\n",
       "      <td>61.4</td>\n",
       "      <td>1.5</td>\n",
       "      <td>ford</td>\n",
       "    </tr>\n",
       "  </tbody>\n",
       "</table>\n",
       "</div>"
      ],
      "text/plain": [
       "          model  year  price transmission  mileage fuelType  tax   mpg  \\\n",
       "16427    Mondeo  2015  10995       Manual    66509   Diesel  125  58.9   \n",
       "573          A1  2016  13995       Manual     8577   Petrol   30  55.4   \n",
       "6718    T-Cross  2019  18225       Manual     6000   Petrol  145  47.9   \n",
       "7352       Polo  2019  12995       Manual    11756   Petrol  145  48.7   \n",
       "12354     Focus  2019  17991       Manual     1232   Diesel  150  61.4   \n",
       "\n",
       "       engineSize   car  \n",
       "16427         2.0  ford  \n",
       "573           1.4  audi  \n",
       "6718          1.0    vw  \n",
       "7352          1.0    vw  \n",
       "12354         1.5  ford  "
      ]
     },
     "execution_count": 2,
     "metadata": {},
     "output_type": "execute_result"
    }
   ],
   "source": [
    "df = pd.DataFrame()\n",
    "for tmp in os.listdir(\"bases/car-db/\"):\n",
    "    tmpDF = pd.read_csv(f\"bases/car-db/{tmp}\")\n",
    "    tmpDF['car'] = tmp.split(\".\")[0]\n",
    "    df = df.append(tmpDF)\n",
    "    print(f\"{tmp} - Nulls: {df.isna().sum().sum()}\")\n",
    "df.sample(5)"
   ]
  },
  {
   "cell_type": "code",
   "execution_count": 3,
   "metadata": {},
   "outputs": [],
   "source": [
    "target_name = 'price'"
   ]
  },
  {
   "cell_type": "markdown",
   "metadata": {},
   "source": [
    "# Categories"
   ]
  },
  {
   "cell_type": "code",
   "execution_count": 4,
   "metadata": {},
   "outputs": [
    {
     "data": {
      "text/plain": [
       "transmission      4\n",
       "fuelType          5\n",
       "car               7\n",
       "model           155\n",
       "dtype: int64"
      ]
     },
     "execution_count": 4,
     "metadata": {},
     "output_type": "execute_result"
    }
   ],
   "source": [
    "categories_cols = df.columns[df.dtypes == object]\n",
    "df[categories_cols].nunique().sort_values()"
   ]
  },
  {
   "cell_type": "code",
   "execution_count": 5,
   "metadata": {},
   "outputs": [],
   "source": [
    "# Model high Cardinality\n",
    "df.drop('model',axis=1,inplace=True)"
   ]
  },
  {
   "cell_type": "markdown",
   "metadata": {},
   "source": [
    "# Numeric"
   ]
  },
  {
   "cell_type": "code",
   "execution_count": 6,
   "metadata": {},
   "outputs": [
    {
     "data": {
      "text/html": [
       "<div>\n",
       "<style scoped>\n",
       "    .dataframe tbody tr th:only-of-type {\n",
       "        vertical-align: middle;\n",
       "    }\n",
       "\n",
       "    .dataframe tbody tr th {\n",
       "        vertical-align: top;\n",
       "    }\n",
       "\n",
       "    .dataframe thead th {\n",
       "        text-align: right;\n",
       "    }\n",
       "</style>\n",
       "<table border=\"1\" class=\"dataframe\">\n",
       "  <thead>\n",
       "    <tr style=\"text-align: right;\">\n",
       "      <th></th>\n",
       "      <th>0.00</th>\n",
       "      <th>0.01</th>\n",
       "      <th>0.05</th>\n",
       "      <th>0.50</th>\n",
       "      <th>0.95</th>\n",
       "      <th>0.99</th>\n",
       "      <th>1.00</th>\n",
       "    </tr>\n",
       "  </thead>\n",
       "  <tbody>\n",
       "    <tr>\n",
       "      <th>year</th>\n",
       "      <td>1970.0</td>\n",
       "      <td>2010.0</td>\n",
       "      <td>2014.0</td>\n",
       "      <td>2017.0</td>\n",
       "      <td>2019.0</td>\n",
       "      <td>2020.0</td>\n",
       "      <td>2060.0</td>\n",
       "    </tr>\n",
       "    <tr>\n",
       "      <th>price</th>\n",
       "      <td>450.0</td>\n",
       "      <td>3990.0</td>\n",
       "      <td>6490.0</td>\n",
       "      <td>13990.0</td>\n",
       "      <td>32995.0</td>\n",
       "      <td>49990.0</td>\n",
       "      <td>159999.0</td>\n",
       "    </tr>\n",
       "    <tr>\n",
       "      <th>mileage</th>\n",
       "      <td>1.0</td>\n",
       "      <td>10.0</td>\n",
       "      <td>1000.0</td>\n",
       "      <td>17384.0</td>\n",
       "      <td>63100.0</td>\n",
       "      <td>96000.0</td>\n",
       "      <td>323000.0</td>\n",
       "    </tr>\n",
       "    <tr>\n",
       "      <th>tax</th>\n",
       "      <td>0.0</td>\n",
       "      <td>0.0</td>\n",
       "      <td>0.0</td>\n",
       "      <td>145.0</td>\n",
       "      <td>200.0</td>\n",
       "      <td>260.0</td>\n",
       "      <td>580.0</td>\n",
       "    </tr>\n",
       "    <tr>\n",
       "      <th>mpg</th>\n",
       "      <td>0.3</td>\n",
       "      <td>30.1</td>\n",
       "      <td>36.7</td>\n",
       "      <td>54.3</td>\n",
       "      <td>74.3</td>\n",
       "      <td>83.1</td>\n",
       "      <td>235.4</td>\n",
       "    </tr>\n",
       "    <tr>\n",
       "      <th>engineSize</th>\n",
       "      <td>0.0</td>\n",
       "      <td>1.0</td>\n",
       "      <td>1.0</td>\n",
       "      <td>1.5</td>\n",
       "      <td>2.4</td>\n",
       "      <td>3.0</td>\n",
       "      <td>6.3</td>\n",
       "    </tr>\n",
       "  </tbody>\n",
       "</table>\n",
       "</div>"
      ],
      "text/plain": [
       "              0.00    0.01    0.05     0.50     0.95     0.99      1.00\n",
       "year        1970.0  2010.0  2014.0   2017.0   2019.0   2020.0    2060.0\n",
       "price        450.0  3990.0  6490.0  13990.0  32995.0  49990.0  159999.0\n",
       "mileage        1.0    10.0  1000.0  17384.0  63100.0  96000.0  323000.0\n",
       "tax            0.0     0.0     0.0    145.0    200.0    260.0     580.0\n",
       "mpg            0.3    30.1    36.7     54.3     74.3     83.1     235.4\n",
       "engineSize     0.0     1.0     1.0      1.5      2.4      3.0       6.3"
      ]
     },
     "execution_count": 6,
     "metadata": {},
     "output_type": "execute_result"
    }
   ],
   "source": [
    "df.quantile([0,0.01,0.05,0.5,0.95,0.99,1]).T"
   ]
  },
  {
   "cell_type": "code",
   "execution_count": 50,
   "metadata": {},
   "outputs": [],
   "source": [
    "import pandas_profiling\n",
    "\n",
    "report = pandas_profiling.ProfileReport(df, title='Profile Report', html={'style':{'full_width':True}})"
   ]
  },
  {
   "cell_type": "code",
   "execution_count": 53,
   "metadata": {},
   "outputs": [
    {
     "data": {
      "application/vnd.jupyter.widget-view+json": {
       "model_id": "98f45ebbc46d4998b2c88d1a06b89ddf",
       "version_major": 2,
       "version_minor": 0
      },
      "text/plain": [
       "HBox(children=(FloatProgress(value=0.0, description='Export report to file', max=1.0, style=ProgressStyle(desc…"
      ]
     },
     "metadata": {},
     "output_type": "display_data"
    },
    {
     "name": "stdout",
     "output_type": "stream",
     "text": [
      "\n"
     ]
    }
   ],
   "source": [
    "report.to_file(\"carAnalysis.html\")"
   ]
  },
  {
   "cell_type": "code",
   "execution_count": 7,
   "metadata": {},
   "outputs": [],
   "source": [
    "# Year Outlier\n",
    "df = df[(df.year < 2022) & (df.year > 2009)]"
   ]
  },
  {
   "cell_type": "markdown",
   "metadata": {},
   "source": [
    "# Modelling"
   ]
  },
  {
   "cell_type": "code",
   "execution_count": 26,
   "metadata": {},
   "outputs": [],
   "source": [
    "from sklearn.preprocessing import StandardScaler,MinMaxScaler\n",
    "from sklearn.model_selection import train_test_split"
   ]
  },
  {
   "cell_type": "code",
   "execution_count": 27,
   "metadata": {},
   "outputs": [],
   "source": [
    "df = pd.get_dummies(df,drop_first=True)"
   ]
  },
  {
   "cell_type": "code",
   "execution_count": 28,
   "metadata": {},
   "outputs": [],
   "source": [
    "df.reset_index(drop=True,inplace=True)\n",
    "X = df.drop('price',axis=1)\n",
    "y = df['price']"
   ]
  },
  {
   "cell_type": "code",
   "execution_count": 29,
   "metadata": {},
   "outputs": [],
   "source": [
    "scaler = StandardScaler()\n",
    "# same scale\n",
    "X = pd.DataFrame(scaler.fit_transform(X),columns=X.columns)\n",
    "\n",
    "MMscaler = MinMaxScaler()\n",
    "for col in X.columns[X.nunique() == 2]:\n",
    "    X[col] = MMscaler.fit_transform(X[[col]]).astype(int)"
   ]
  },
  {
   "cell_type": "code",
   "execution_count": 30,
   "metadata": {},
   "outputs": [],
   "source": [
    "X_train, X_test, y_train, y_test = train_test_split(X, y, test_size=0.20, random_state=42)"
   ]
  },
  {
   "cell_type": "code",
   "execution_count": 44,
   "metadata": {},
   "outputs": [],
   "source": [
    "from sklearn.linear_model import LinearRegression, ElasticNet\n",
    "from sklearn.tree import DecisionTreeRegressor\n",
    "from sklearn.neighbors import KNeighborsRegressor"
   ]
  },
  {
   "cell_type": "code",
   "execution_count": 41,
   "metadata": {},
   "outputs": [],
   "source": [
    "from sklearn.model_selection import cross_validate, KFold, GridSearchCV"
   ]
  },
  {
   "cell_type": "markdown",
   "metadata": {},
   "source": [
    "# Models"
   ]
  },
  {
   "cell_type": "code",
   "execution_count": 49,
   "metadata": {},
   "outputs": [],
   "source": [
    "models = [\n",
    "    {\n",
    "        'model_name':'ElasticNet',\n",
    "        'params':{\n",
    "            'alpha':[0,0.1,0.5,0.9,1],\n",
    "            'l1_ratio':[0,0.1,0.5,0.9,1],\n",
    "        },\n",
    "        'model':ElasticNet(),\n",
    "    },\n",
    "    {\n",
    "        'model_name':'DecisionTreeRegressor',\n",
    "        'params':{\n",
    "            'max_depth':[3,10,40,None],\n",
    "            'min_samples_split':[2,50,300]\n",
    "        },\n",
    "        'model':DecisionTreeRegressor(),\n",
    "    },\n",
    "    {\n",
    "        'model_name':'KNeighborsRegressor',\n",
    "        'params':{\n",
    "            \"n_neighbors\":[3,5,7,9]\n",
    "        },\n",
    "        'model':KNeighborsRegressor(),\n",
    "    }\n",
    "]"
   ]
  },
  {
   "cell_type": "markdown",
   "metadata": {},
   "source": [
    "# Cross Validation"
   ]
  },
  {
   "cell_type": "code",
   "execution_count": 51,
   "metadata": {},
   "outputs": [
    {
     "name": "stdout",
     "output_type": "stream",
     "text": [
      "-----------\n",
      "ElasticNet\n",
      "\t 0.7768796234897191\n",
      "-----------\n",
      "DecisionTreeRegressor\n",
      "\t 0.922499132941704\n",
      "-----------\n",
      "KNeighborsRegressor\n",
      "\t 0.9332460034923531\n"
     ]
    }
   ],
   "source": [
    "evaluation = []\n",
    "cv = KFold(5,shuffle=True,random_state=42)\n",
    "for model in models:\n",
    "    print(\"-----------\")\n",
    "    print(models['model_name'])\n",
    "    \n",
    "    grid = GridSearchCV(model['model'],param_grid=model['params'],cv=cv,return_train_score=True)\n",
    "    grid.fit(X_train,y_train)\n",
    "    print(\"\\t\", grid.best_score_)\n",
    "    model['crossValidation'] = grid\n",
    "    evaluation.append(model)"
   ]
  },
  {
   "cell_type": "code",
   "execution_count": 64,
   "metadata": {},
   "outputs": [],
   "source": [
    "for model in models:\n",
    "    results = pd.DataFrame(model['crossValidation'].cv_results_).query(\"rank_test_score == 1\").iloc[0]\n",
    "    model['mean_test_score'],model['std_test_score'] = results['mean_test_score'],results['std_test_score']\n",
    "    model['mean_train_score'],model['std_train_score'] = results['mean_train_score'],results['std_train_score']"
   ]
  },
  {
   "cell_type": "code",
   "execution_count": 66,
   "metadata": {},
   "outputs": [
    {
     "data": {
      "text/html": [
       "<div>\n",
       "<style scoped>\n",
       "    .dataframe tbody tr th:only-of-type {\n",
       "        vertical-align: middle;\n",
       "    }\n",
       "\n",
       "    .dataframe tbody tr th {\n",
       "        vertical-align: top;\n",
       "    }\n",
       "\n",
       "    .dataframe thead th {\n",
       "        text-align: right;\n",
       "    }\n",
       "</style>\n",
       "<table border=\"1\" class=\"dataframe\">\n",
       "  <thead>\n",
       "    <tr style=\"text-align: right;\">\n",
       "      <th></th>\n",
       "      <th>model_name</th>\n",
       "      <th>mean_train_score</th>\n",
       "      <th>mean_test_score</th>\n",
       "    </tr>\n",
       "  </thead>\n",
       "  <tbody>\n",
       "    <tr>\n",
       "      <th>0</th>\n",
       "      <td>ElasticNet</td>\n",
       "      <td>0.777287</td>\n",
       "      <td>0.776880</td>\n",
       "    </tr>\n",
       "    <tr>\n",
       "      <th>1</th>\n",
       "      <td>DecisionTreeRegressor</td>\n",
       "      <td>0.944418</td>\n",
       "      <td>0.922499</td>\n",
       "    </tr>\n",
       "    <tr>\n",
       "      <th>2</th>\n",
       "      <td>KNeighborsRegressor</td>\n",
       "      <td>0.956527</td>\n",
       "      <td>0.933246</td>\n",
       "    </tr>\n",
       "  </tbody>\n",
       "</table>\n",
       "</div>"
      ],
      "text/plain": [
       "              model_name  mean_train_score  mean_test_score\n",
       "0             ElasticNet          0.777287         0.776880\n",
       "1  DecisionTreeRegressor          0.944418         0.922499\n",
       "2    KNeighborsRegressor          0.956527         0.933246"
      ]
     },
     "execution_count": 66,
     "metadata": {},
     "output_type": "execute_result"
    }
   ],
   "source": [
    "results = pd.DataFrame(models)\n",
    "results[['model_name','mean_train_score','mean_test_score']]"
   ]
  }
 ],
 "metadata": {
  "kernelspec": {
   "display_name": "Python 3",
   "language": "python",
   "name": "python3"
  },
  "language_info": {
   "codemirror_mode": {
    "name": "ipython",
    "version": 3
   },
   "file_extension": ".py",
   "mimetype": "text/x-python",
   "name": "python",
   "nbconvert_exporter": "python",
   "pygments_lexer": "ipython3",
   "version": "3.7.4"
  },
  "toc": {
   "base_numbering": 1,
   "nav_menu": {},
   "number_sections": true,
   "sideBar": true,
   "skip_h1_title": false,
   "title_cell": "Table of Contents",
   "title_sidebar": "Contents",
   "toc_cell": false,
   "toc_position": {},
   "toc_section_display": true,
   "toc_window_display": false
  }
 },
 "nbformat": 4,
 "nbformat_minor": 2
}
