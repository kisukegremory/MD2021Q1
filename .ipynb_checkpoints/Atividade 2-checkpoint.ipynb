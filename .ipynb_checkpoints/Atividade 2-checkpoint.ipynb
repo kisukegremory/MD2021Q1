{
 "cells": [
  {
   "cell_type": "code",
   "execution_count": 1,
   "metadata": {},
   "outputs": [],
   "source": [
    "import numpy as np \n",
    "import pandas as pd "
   ]
  },
  {
   "cell_type": "markdown",
   "metadata": {},
   "source": [
    "# Questão 1\n",
    "---\n",
    "Considere a base de dados disponível em\n",
    "\n",
    "https://raw.githubusercontent.com/jlyang1990/Spark_Python_Do_Big_Data_Analytics/master/auto-data.csv. Essa base tem os seguintes atributos:\n",
    "  \n",
    "Fabricante (MAKE)  \n",
    "Combustível (FUELTYPE)  \n",
    "Tipo de Apiração (ASPIRE)  \n",
    "Quantidade de Portas (DOORS)  \n",
    "Carroceria (BODY)  \n",
    "Tração (DRIVE)  \n",
    "Número de cilindros (CYLINDERS)  \n",
    "Potência (HP)  \n",
    "Rotações por minuto (RPM)  \n",
    "Consumo na cidade (MPG-CITY)  \n",
    "Consumo na estrada (MPG-HWY)  \n",
    "Preço (PRICE)  \n",
    "Considerando os atributos numéricos, o atributo que tem maior correlação positiva com o preço (PRICE) é o \n",
    "(_____) Já o atributo que tem maior correlação negativa com a potência (HP) é o (_____) O atributo numérico com menor correlação com os demais é (_____)"
   ]
  },
  {
   "cell_type": "code",
   "execution_count": 2,
   "metadata": {},
   "outputs": [
    {
     "data": {
      "text/html": [
       "<div>\n",
       "<style scoped>\n",
       "    .dataframe tbody tr th:only-of-type {\n",
       "        vertical-align: middle;\n",
       "    }\n",
       "\n",
       "    .dataframe tbody tr th {\n",
       "        vertical-align: top;\n",
       "    }\n",
       "\n",
       "    .dataframe thead th {\n",
       "        text-align: right;\n",
       "    }\n",
       "</style>\n",
       "<table border=\"1\" class=\"dataframe\">\n",
       "  <thead>\n",
       "    <tr style=\"text-align: right;\">\n",
       "      <th></th>\n",
       "      <th>MAKE</th>\n",
       "      <th>FUELTYPE</th>\n",
       "      <th>ASPIRE</th>\n",
       "      <th>DOORS</th>\n",
       "      <th>BODY</th>\n",
       "      <th>DRIVE</th>\n",
       "      <th>CYLINDERS</th>\n",
       "      <th>HP</th>\n",
       "      <th>RPM</th>\n",
       "      <th>MPG-CITY</th>\n",
       "      <th>MPG-HWY</th>\n",
       "      <th>PRICE</th>\n",
       "    </tr>\n",
       "  </thead>\n",
       "  <tbody>\n",
       "    <tr>\n",
       "      <th>0</th>\n",
       "      <td>subaru</td>\n",
       "      <td>gas</td>\n",
       "      <td>std</td>\n",
       "      <td>two</td>\n",
       "      <td>hatchback</td>\n",
       "      <td>fwd</td>\n",
       "      <td>four</td>\n",
       "      <td>69</td>\n",
       "      <td>4900</td>\n",
       "      <td>31</td>\n",
       "      <td>36</td>\n",
       "      <td>5118</td>\n",
       "    </tr>\n",
       "    <tr>\n",
       "      <th>1</th>\n",
       "      <td>chevrolet</td>\n",
       "      <td>gas</td>\n",
       "      <td>std</td>\n",
       "      <td>two</td>\n",
       "      <td>hatchback</td>\n",
       "      <td>fwd</td>\n",
       "      <td>three</td>\n",
       "      <td>48</td>\n",
       "      <td>5100</td>\n",
       "      <td>47</td>\n",
       "      <td>53</td>\n",
       "      <td>5151</td>\n",
       "    </tr>\n",
       "  </tbody>\n",
       "</table>\n",
       "</div>"
      ],
      "text/plain": [
       "        MAKE FUELTYPE ASPIRE DOORS       BODY DRIVE CYLINDERS  HP   RPM  \\\n",
       "0     subaru      gas    std   two  hatchback   fwd      four  69  4900   \n",
       "1  chevrolet      gas    std   two  hatchback   fwd     three  48  5100   \n",
       "\n",
       "   MPG-CITY  MPG-HWY  PRICE  \n",
       "0        31       36   5118  \n",
       "1        47       53   5151  "
      ]
     },
     "execution_count": 2,
     "metadata": {},
     "output_type": "execute_result"
    }
   ],
   "source": [
    "df = pd.read_csv(\"https://raw.githubusercontent.com/jlyang1990/Spark_Python_Do_Big_Data_Analytics/master/auto-data.csv\")\n",
    "df.head(2)"
   ]
  },
  {
   "cell_type": "code",
   "execution_count": 10,
   "metadata": {},
   "outputs": [
    {
     "name": "stdout",
     "output_type": "stream",
     "text": [
      "HP, MPG-CITY, RPM\n"
     ]
    },
    {
     "data": {
      "text/html": [
       "<div>\n",
       "<style scoped>\n",
       "    .dataframe tbody tr th:only-of-type {\n",
       "        vertical-align: middle;\n",
       "    }\n",
       "\n",
       "    .dataframe tbody tr th {\n",
       "        vertical-align: top;\n",
       "    }\n",
       "\n",
       "    .dataframe thead th {\n",
       "        text-align: right;\n",
       "    }\n",
       "</style>\n",
       "<table border=\"1\" class=\"dataframe\">\n",
       "  <thead>\n",
       "    <tr style=\"text-align: right;\">\n",
       "      <th></th>\n",
       "      <th>HP</th>\n",
       "      <th>RPM</th>\n",
       "      <th>MPG-CITY</th>\n",
       "      <th>MPG-HWY</th>\n",
       "      <th>PRICE</th>\n",
       "    </tr>\n",
       "  </thead>\n",
       "  <tbody>\n",
       "    <tr>\n",
       "      <th>HP</th>\n",
       "      <td>1.000000</td>\n",
       "      <td>0.103574</td>\n",
       "      <td>-0.821960</td>\n",
       "      <td>-0.803658</td>\n",
       "      <td>0.811953</td>\n",
       "    </tr>\n",
       "    <tr>\n",
       "      <th>RPM</th>\n",
       "      <td>0.103574</td>\n",
       "      <td>1.000000</td>\n",
       "      <td>-0.107648</td>\n",
       "      <td>-0.050632</td>\n",
       "      <td>-0.101319</td>\n",
       "    </tr>\n",
       "    <tr>\n",
       "      <th>MPG-CITY</th>\n",
       "      <td>-0.821960</td>\n",
       "      <td>-0.107648</td>\n",
       "      <td>1.000000</td>\n",
       "      <td>0.972407</td>\n",
       "      <td>-0.692948</td>\n",
       "    </tr>\n",
       "    <tr>\n",
       "      <th>MPG-HWY</th>\n",
       "      <td>-0.803658</td>\n",
       "      <td>-0.050632</td>\n",
       "      <td>0.972407</td>\n",
       "      <td>1.000000</td>\n",
       "      <td>-0.708659</td>\n",
       "    </tr>\n",
       "    <tr>\n",
       "      <th>PRICE</th>\n",
       "      <td>0.811953</td>\n",
       "      <td>-0.101319</td>\n",
       "      <td>-0.692948</td>\n",
       "      <td>-0.708659</td>\n",
       "      <td>1.000000</td>\n",
       "    </tr>\n",
       "  </tbody>\n",
       "</table>\n",
       "</div>"
      ],
      "text/plain": [
       "                HP       RPM  MPG-CITY   MPG-HWY     PRICE\n",
       "HP        1.000000  0.103574 -0.821960 -0.803658  0.811953\n",
       "RPM       0.103574  1.000000 -0.107648 -0.050632 -0.101319\n",
       "MPG-CITY -0.821960 -0.107648  1.000000  0.972407 -0.692948\n",
       "MPG-HWY  -0.803658 -0.050632  0.972407  1.000000 -0.708659\n",
       "PRICE     0.811953 -0.101319 -0.692948 -0.708659  1.000000"
      ]
     },
     "execution_count": 10,
     "metadata": {},
     "output_type": "execute_result"
    }
   ],
   "source": [
    "print(\"HP, MPG-CITY, RPM\")\n",
    "df.corr()"
   ]
  },
  {
   "cell_type": "markdown",
   "metadata": {},
   "source": [
    "# Questão 2\n",
    "---\n",
    "Considere a base de dados disponível em\n",
    "\n",
    "https://raw.githubusercontent.com/jlyang1990/Spark_Python_Do_Big_Data_Analytics/master/auto-data.csv. Essa base tem os seguintes atributos:\n",
    "  \n",
    "Fabricante (MAKE)  \n",
    "Combustível (FUELTYPE)  \n",
    "Tipo de Apiração (ASPIRE)  \n",
    "Quantidade de Portas (DOORS)  \n",
    "Carroceria (BODY)  \n",
    "Tração (DRIVE)  \n",
    "Número de cilindros (CYLINDERS)  \n",
    "Potência (HP)  \n",
    "Rotações por minuto (RPM)  \n",
    "Consumo na cidade (MPG-CITY)  \n",
    "Consumo na estrada (MPG-HWY)  \n",
    "Preço (PRICE)  \n",
    "\n",
    "Considerando os atributos tipo de combustível (FUELTYPE) e número de portas (DOORS), podemos dizer que a proporção de veículos com 4 portas é maior para o tipo de combustível (_) O tipo de carroceria com maior preço médio é o (_) Já o tipo de tração com melhor desempenho na cidade (maior MPG-CITY)  é o (_)\n",
    "\n"
   ]
  },
  {
   "cell_type": "code",
   "execution_count": 20,
   "metadata": {},
   "outputs": [
    {
     "name": "stdout",
     "output_type": "stream",
     "text": [
      "diesel\n"
     ]
    },
    {
     "data": {
      "text/html": [
       "<div>\n",
       "<style scoped>\n",
       "    .dataframe tbody tr th:only-of-type {\n",
       "        vertical-align: middle;\n",
       "    }\n",
       "\n",
       "    .dataframe tbody tr th {\n",
       "        vertical-align: top;\n",
       "    }\n",
       "\n",
       "    .dataframe thead th {\n",
       "        text-align: right;\n",
       "    }\n",
       "</style>\n",
       "<table border=\"1\" class=\"dataframe\">\n",
       "  <thead>\n",
       "    <tr style=\"text-align: right;\">\n",
       "      <th></th>\n",
       "      <th>count</th>\n",
       "      <th>unique</th>\n",
       "      <th>top</th>\n",
       "      <th>freq</th>\n",
       "      <th>pct</th>\n",
       "    </tr>\n",
       "    <tr>\n",
       "      <th>FUELTYPE</th>\n",
       "      <th></th>\n",
       "      <th></th>\n",
       "      <th></th>\n",
       "      <th></th>\n",
       "      <th></th>\n",
       "    </tr>\n",
       "  </thead>\n",
       "  <tbody>\n",
       "    <tr>\n",
       "      <th>diesel</th>\n",
       "      <td>19</td>\n",
       "      <td>2</td>\n",
       "      <td>four</td>\n",
       "      <td>16</td>\n",
       "      <td>84.2105</td>\n",
       "    </tr>\n",
       "    <tr>\n",
       "      <th>gas</th>\n",
       "      <td>178</td>\n",
       "      <td>2</td>\n",
       "      <td>four</td>\n",
       "      <td>96</td>\n",
       "      <td>53.9326</td>\n",
       "    </tr>\n",
       "  </tbody>\n",
       "</table>\n",
       "</div>"
      ],
      "text/plain": [
       "         count unique   top freq      pct\n",
       "FUELTYPE                                 \n",
       "diesel      19      2  four   16  84.2105\n",
       "gas        178      2  four   96  53.9326"
      ]
     },
     "execution_count": 20,
     "metadata": {},
     "output_type": "execute_result"
    }
   ],
   "source": [
    "print(\"diesel\")\n",
    "x = df.groupby([\"FUELTYPE\"])['DOORS'].describe()\n",
    "x['pct'] = (x['freq']/x['count']*100)\n",
    "x"
   ]
  },
  {
   "cell_type": "code",
   "execution_count": 23,
   "metadata": {},
   "outputs": [
    {
     "name": "stdout",
     "output_type": "stream",
     "text": [
      "hardtop\n"
     ]
    },
    {
     "data": {
      "text/plain": [
       "BODY\n",
       "hatchback       9958.373134\n",
       "wagon          12500.166667\n",
       "sedan          14563.739130\n",
       "convertible    21890.500000\n",
       "hardtop        22208.500000\n",
       "Name: PRICE, dtype: float64"
      ]
     },
     "execution_count": 23,
     "metadata": {},
     "output_type": "execute_result"
    }
   ],
   "source": [
    "print(\"hardtop\")\n",
    "df.groupby(['BODY'])['PRICE'].mean().sort_values()"
   ]
  },
  {
   "cell_type": "code",
   "execution_count": 27,
   "metadata": {},
   "outputs": [
    {
     "name": "stdout",
     "output_type": "stream",
     "text": [
      "fwd\n"
     ]
    },
    {
     "data": {
      "text/plain": [
       "DRIVE\n",
       "rwd    20.626667\n",
       "4wd    24.000000\n",
       "fwd    28.210526\n",
       "Name: MPG-CITY, dtype: float64"
      ]
     },
     "execution_count": 27,
     "metadata": {},
     "output_type": "execute_result"
    }
   ],
   "source": [
    "print(\"fwd\")\n",
    "df.groupby(['DRIVE'])['MPG-CITY'].mean().sort_values()"
   ]
  },
  {
   "cell_type": "markdown",
   "metadata": {},
   "source": [
    "# Questão 3"
   ]
  },
  {
   "cell_type": "code",
   "execution_count": 28,
   "metadata": {},
   "outputs": [],
   "source": [
    "import pandas as pd\n",
    "from io import StringIO\n",
    "from sklearn.manifold import MDS\n",
    "import matplotlib.pyplot as plt\n",
    "from scipy.spatial.distance import cdist"
   ]
  },
  {
   "cell_type": "code",
   "execution_count": 29,
   "metadata": {},
   "outputs": [],
   "source": [
    "tmp = StringIO(\"\"\"STN_NAME,YISHUN_MRT_STATION,PASIR_RIS_MRT_STATION,JURONG_EAST_MRT_STATION,TUAS_LINK_MRT_STATION,BENCOOLEN_MRT_STATION,PUNGGOL_MRT_STATION,MARINA_BAY_MRT_STATION,DHOBY_GHAUT_MRT_STATION,ROCHOR_MRT_STATION,UPPER_CHANGI_MRT_STATION\n",
    "YISHUN_MRT_STATION,0,14165.8028309003,14826.8234223324,24144.58370996,14539.8253530485,7955.17551381608,17097.0983148766,14495.1289232166,14014.7715236133,17091.9107945143\n",
    "PASIR_RIS_MRT_STATION,14165.8028309003,0,23451.9973340811,34950.8745491473,13721.3248153691,6306.08987347808,14983.0092441387,14095.3770091796,13209.4818715068,3712.4090725179\n",
    "JURONG_EAST_MRT_STATION,14826.8234223324,23451.9973340811,0,11758.6400823558,12613.5429467971,19455.8643741636,14047.8304857995,12175.0907736314,12676.1241992151,24411.4671044188\n",
    "TUAS_LINK_MRT_STATION,24144.58370996,34950.8745491473,11758.6400823558,0,24202.2573770791,30351.6324743735,25305.1676395598,23749.9738806756,24325.8635170677,36124.0377992668\n",
    "BENCOOLEN_MRT_STATION,14539.8253530485,13721.3248153691,12613.5429467971,24202.2573770791,0,13024.8987292155,2565.66801256045,461.323513564845,602.910926685915,13240.7330980557\n",
    "PUNGGOL_MRT_STATION,7955.17551381608,6306.08987347808,19455.8643741636,30351.6324743735,13024.8987292155,0,15129.4446906282,13237.1986125019,12423.6186258471,9588.13908018742\n",
    "MARINA_BAY_MRT_STATION,17097.0983148766,14983.0092441387,14047.8304857995,25305.1676395598,2565.66801256045,15129.4446906282,0,2695.76728986719,3084.57512743706,13883.5893006481\n",
    "DHOBY_GHAUT_MRT_STATION,14495.1289232166,14095.3770091796,12175.0907736314,23749.9738806756,461.323513564845,13237.1986125019,2695.76728986719,0,887.79255969772,13673.2848886229\n",
    "ROCHOR_MRT_STATION,14014.7715236133,13209.4818715068,12676.1241992151,24325.8635170677,602.910926685915,12423.6186258471,3084.57512743706,887.79255969772,0,12836.5477607036\n",
    "UPPER_CHANGI_MRT_STATION,17091.9107945143,3712.4090725179,24411.4671044188,36124.0377992668,13240.7330980557,9588.13908018742,13883.5893006481,13673.2848886229,12836.5477607036,0\"\"\")\n",
    "\n",
    "distancias = pd.read_csv(tmp,index_col=0)"
   ]
  },
  {
   "cell_type": "code",
   "execution_count": 30,
   "metadata": {},
   "outputs": [],
   "source": [
    "tmp = StringIO(\"\"\" STN_NAME,YISHUN_MRT_STATION,PASIR_RIS_MRT_STATION,JURONG_EAST_MRT_STATION,TUAS_LINK_MRT_STATION,BENCOOLEN_MRT_STATION,PUNGGOL_MRT_STATION,MARINA_BAY_MRT_STATION,DHOBY_GHAUT_MRT_STATION,ROCHOR_MRT_STATION,UPPER_CHANGI_MRT_STATION\n",
    "BENCOOLEN_MRT_STATION,0,476,2359,707,2347,1944,640,3593,1848,2245\n",
    "DHOBY_GHAUT_MRT_STATION,476,0,2009,363,1970,1484,334,3219,2173,1820\n",
    "JURONG_EAST_MRT_STATION,2359,2009,0,1883,3677,3422,2044,1738,3665,2411\n",
    "MARINA_BAY_MRT_STATION,707,363,1883,0,2169,1848,528,3118,2441,2127\n",
    "PASIR_RIS_MRT_STATION,2347,1970,3677,2169,0,2599,1819,4912,1334,3734\n",
    "PUNGGOL_MRT_STATION,1944,1484,3422,1848,2599,0,1552,4632,3174,2194\n",
    "ROCHOR_MRT_STATION,640,334,2044,528,1819,1552,0,3318,1998,1758\n",
    "TUAS_LINK_MRT_STATION,3593,3219,1738,3118,4912,4632,3318,0,4941,3659\n",
    "UPPER_CHANGI_MRT_STATION,1848,2173,3665,2441,1334,3174,1998,4941,0,3945\n",
    "YISHUN_MRT_STATION,2245,1820,2411,2127,3734,2194,1758,3659,3945,0 \"\"\")\n",
    "tempo_viagem = pd.read_csv(tmp,index_col=0)"
   ]
  },
  {
   "cell_type": "code",
   "execution_count": 31,
   "metadata": {},
   "outputs": [],
   "source": [
    "mds = MDS(dissimilarity='precomputed',random_state=42)\n",
    "mds_distancias = mds.fit_transform(distancias)\n",
    "mds_tempo_viagem = mds.fit_transform(tempo_viagem)"
   ]
  },
  {
   "cell_type": "code",
   "execution_count": 32,
   "metadata": {},
   "outputs": [],
   "source": [
    "mds_distancias /= mds_distancias.max()\n",
    "mds_tempo_viagem /= mds_tempo_viagem.max()"
   ]
  },
  {
   "cell_type": "code",
   "execution_count": 33,
   "metadata": {},
   "outputs": [
    {
     "data": {
      "text/plain": [
       "<matplotlib.legend.Legend at 0x1d629768148>"
      ]
     },
     "execution_count": 33,
     "metadata": {},
     "output_type": "execute_result"
    },
    {
     "data": {
      "image/png": "[encoded data removed]",
      "text/plain": [
       "<Figure size 720x720 with 1 Axes>"
      ]
     },
     "metadata": {
      "needs_background": "light"
     },
     "output_type": "display_data"
    }
   ],
   "source": [
    "fig = plt.figure(figsize=(10,10))\n",
    "\n",
    "plt.scatter(mds_distancias[:,0],mds_distancias[:,1],color = 'red', label=\"Distâncias\")\n",
    "for i in range(len(mds_distancias)):\n",
    "  plt.text(mds_distancias[i,0],mds_distancias[i,1],distancias.index[i])\n",
    "\n",
    "plt.scatter(mds_tempo_viagem[:,0],mds_tempo_viagem[:,1],color = 'blue', label=\"Tempo de Viagem\")\n",
    "for i in range(len(mds_tempo_viagem)):\n",
    "  plt.text(mds_tempo_viagem[i,0],mds_tempo_viagem[i,1],tempo_viagem.index[i])\n",
    "\n",
    "plt.legend(loc='lower left')"
   ]
  },
  {
   "cell_type": "code",
   "execution_count": 57,
   "metadata": {},
   "outputs": [
    {
     "data": {
      "text/plain": [
       "PUNGGOL_MRT_STATION         0.348489\n",
       "DHOBY_GHAUT_MRT_STATION     0.351740\n",
       "ROCHOR_MRT_STATION          0.356873\n",
       "BENCOOLEN_MRT_STATION       0.458154\n",
       "MARINA_BAY_MRT_STATION      0.479993\n",
       "JURONG_EAST_MRT_STATION     0.678506\n",
       "PASIR_RIS_MRT_STATION       0.892292\n",
       "YISHUN_MRT_STATION          1.216402\n",
       "TUAS_LINK_MRT_STATION       1.292609\n",
       "UPPER_CHANGI_MRT_STATION    1.373523\n",
       "dtype: float64"
      ]
     },
     "execution_count": 57,
     "metadata": {},
     "output_type": "execute_result"
    }
   ],
   "source": [
    "distTempo = pd.DataFrame(mds_tempo_viagem,columns=['tempo_x','tempo_y'],index=tempo_viagem.index)\n",
    "distDist = pd.DataFrame(mds_distancias,columns=['dist_x','dist_y'],index=distancias.index)\n",
    "\n",
    "df = pd.merge(distDist,distTempo,left_index=True,right_index=True)\n",
    "df.apply(lambda x: cdist([[x['dist_x'],x['dist_y']]],[[x['tempo_x'],x['tempo_y']]]).ravel()[0],axis=1).sort_values()"
   ]
  },
  {
   "cell_type": "markdown",
   "metadata": {},
   "source": [
    "# Questão 4"
   ]
  },
  {
   "cell_type": "code",
   "execution_count": 66,
   "metadata": {},
   "outputs": [
    {
     "data": {
      "text/html": [
       "<div>\n",
       "<style scoped>\n",
       "    .dataframe tbody tr th:only-of-type {\n",
       "        vertical-align: middle;\n",
       "    }\n",
       "\n",
       "    .dataframe tbody tr th {\n",
       "        vertical-align: top;\n",
       "    }\n",
       "\n",
       "    .dataframe thead th {\n",
       "        text-align: right;\n",
       "    }\n",
       "</style>\n",
       "<table border=\"1\" class=\"dataframe\">\n",
       "  <thead>\n",
       "    <tr style=\"text-align: right;\">\n",
       "      <th></th>\n",
       "      <th></th>\n",
       "      <th>x</th>\n",
       "      <th>y</th>\n",
       "    </tr>\n",
       "    <tr>\n",
       "      <th>a3</th>\n",
       "      <th></th>\n",
       "      <th></th>\n",
       "      <th></th>\n",
       "    </tr>\n",
       "  </thead>\n",
       "  <tbody>\n",
       "    <tr>\n",
       "      <th rowspan=\"2\" valign=\"top\">v1</th>\n",
       "      <th>x</th>\n",
       "      <td>1.000000</td>\n",
       "      <td>-0.049674</td>\n",
       "    </tr>\n",
       "    <tr>\n",
       "      <th>y</th>\n",
       "      <td>-0.049674</td>\n",
       "      <td>1.000000</td>\n",
       "    </tr>\n",
       "    <tr>\n",
       "      <th rowspan=\"2\" valign=\"top\">v2</th>\n",
       "      <th>x</th>\n",
       "      <td>1.000000</td>\n",
       "      <td>-0.154721</td>\n",
       "    </tr>\n",
       "    <tr>\n",
       "      <th>y</th>\n",
       "      <td>-0.154721</td>\n",
       "      <td>1.000000</td>\n",
       "    </tr>\n",
       "    <tr>\n",
       "      <th rowspan=\"2\" valign=\"top\">v3</th>\n",
       "      <th>x</th>\n",
       "      <td>1.000000</td>\n",
       "      <td>-0.012382</td>\n",
       "    </tr>\n",
       "    <tr>\n",
       "      <th>y</th>\n",
       "      <td>-0.012382</td>\n",
       "      <td>1.000000</td>\n",
       "    </tr>\n",
       "  </tbody>\n",
       "</table>\n",
       "</div>"
      ],
      "text/plain": [
       "             x         y\n",
       "a3                      \n",
       "v1 x  1.000000 -0.049674\n",
       "   y -0.049674  1.000000\n",
       "v2 x  1.000000 -0.154721\n",
       "   y -0.154721  1.000000\n",
       "v3 x  1.000000 -0.012382\n",
       "   y -0.012382  1.000000"
      ]
     },
     "execution_count": 66,
     "metadata": {},
     "output_type": "execute_result"
    }
   ],
   "source": [
    "#df = pd.read_csv(\"simpson.csv\")\n",
    "df.groupby(['a3']).corr()"
   ]
  }
 ],
 "metadata": {
  "kernelspec": {
   "display_name": "Python 3",
   "language": "python",
   "name": "python3"
  },
  "language_info": {
   "codemirror_mode": {
    "name": "ipython",
    "version": 3
   },
   "file_extension": ".py",
   "mimetype": "text/x-python",
   "name": "python",
   "nbconvert_exporter": "python",
   "pygments_lexer": "ipython3",
   "version": "3.7.4"
  },
  "toc": {
   "base_numbering": 1,
   "nav_menu": {},
   "number_sections": true,
   "sideBar": true,
   "skip_h1_title": false,
   "title_cell": "Table of Contents",
   "title_sidebar": "Contents",
   "toc_cell": false,
   "toc_position": {},
   "toc_section_display": true,
   "toc_window_display": false
  }
 },
 "nbformat": 4,
 "nbformat_minor": 2
}
