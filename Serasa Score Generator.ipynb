{
 "cells": [
  {
   "cell_type": "code",
   "execution_count": 1,
   "metadata": {},
   "outputs": [],
   "source": [
    "import pandas as pd \n",
    "import numpy as np\n",
    "from datetime import datetime, date\n",
    "from sklearn.preprocessing import MinMaxScaler"
   ]
  },
  {
   "cell_type": "code",
   "execution_count": 2,
   "metadata": {},
   "outputs": [
    {
     "data": {
      "text/html": [
       "<div>\n",
       "<style scoped>\n",
       "    .dataframe tbody tr th:only-of-type {\n",
       "        vertical-align: middle;\n",
       "    }\n",
       "\n",
       "    .dataframe tbody tr th {\n",
       "        vertical-align: top;\n",
       "    }\n",
       "\n",
       "    .dataframe thead th {\n",
       "        text-align: right;\n",
       "    }\n",
       "</style>\n",
       "<table border=\"1\" class=\"dataframe\">\n",
       "  <thead>\n",
       "    <tr style=\"text-align: right;\">\n",
       "      <th></th>\n",
       "      <th>id</th>\n",
       "      <th>serasaScore</th>\n",
       "      <th>incomeSource</th>\n",
       "    </tr>\n",
       "  </thead>\n",
       "  <tbody>\n",
       "    <tr>\n",
       "      <th>0</th>\n",
       "      <td>0</td>\n",
       "      <td>698.685661</td>\n",
       "      <td>3</td>\n",
       "    </tr>\n",
       "    <tr>\n",
       "      <th>1</th>\n",
       "      <td>1</td>\n",
       "      <td>444.694280</td>\n",
       "      <td>4</td>\n",
       "    </tr>\n",
       "  </tbody>\n",
       "</table>\n",
       "</div>"
      ],
      "text/plain": [
       "   id  serasaScore  incomeSource\n",
       "0   0   698.685661             3\n",
       "1   1   444.694280             4"
      ]
     },
     "execution_count": 2,
     "metadata": {},
     "output_type": "execute_result"
    }
   ],
   "source": [
    "n_rows = 1000\n",
    "np.random.seed(42)\n",
    "df = {\n",
    "    'id':range(0,n_rows),\n",
    "    'serasaScore':np.random.normal(500,400,size=n_rows),\n",
    "    'incomeSource':np.random.randint(1,5,size=n_rows),\n",
    "}\n",
    "\n",
    "df = pd.DataFrame(df)\n",
    "df.head(2)"
   ]
  },
  {
   "cell_type": "markdown",
   "metadata": {},
   "source": [
    "# SerasaScore"
   ]
  },
  {
   "cell_type": "code",
   "execution_count": 3,
   "metadata": {},
   "outputs": [
    {
     "data": {
      "text/plain": [
       "<matplotlib.axes._subplots.AxesSubplot at 0x27768604448>"
      ]
     },
     "execution_count": 3,
     "metadata": {},
     "output_type": "execute_result"
    }
   ],
   "source": [
    "scaler = MinMaxScaler()\n",
    "df['serasaScore'] = scaler.fit_transform(df['serasaScore'].values.reshape(-1,1))*1000\n",
    "df['serasaScore'] = df['serasaScore'].astype(int)\n",
    "df.serasaScore.hist()"
   ]
  },
  {
   "cell_type": "markdown",
   "metadata": {},
   "source": [
    "# # Restrições"
   ]
  },
  {
   "cell_type": "code",
   "execution_count": 4,
   "metadata": {},
   "outputs": [
    {
     "data": {
      "text/plain": [
       "<matplotlib.axes._subplots.AxesSubplot at 0x2776a9b2208>"
      ]
     },
     "execution_count": 4,
     "metadata": {},
     "output_type": "execute_result"
    },
    {
     "data": {
      "image/png": "[encoded data removed]",
      "text/plain": [
       "<Figure size 432x288 with 1 Axes>"
      ]
     },
     "metadata": {
      "needs_background": "light"
     },
     "output_type": "display_data"
    }
   ],
   "source": [
    "np.random.seed(42)\n",
    "df['n_restrictions']  = np.random.normal(10,10,size=n_rows)\n",
    "df['n_restrictions'] = df['n_restrictions'].astype(int)\n",
    "df['n_restrictions']  = df.apply(lambda row: 0 if row['n_restrictions'] < 0 else row['n_restrictions'],axis=1)\n",
    "df['n_restrictions']  = df.apply(lambda row: \n",
    "                                 0 if (row['serasaScore']/1000)*np.random.random() > 0.5 \n",
    "                                 else row['n_restrictions'],\n",
    "                                 axis=1)\n",
    "df['n_restrictions'].hist()"
   ]
  },
  {
   "cell_type": "markdown",
   "metadata": {},
   "source": [
    "# Age"
   ]
  },
  {
   "cell_type": "code",
   "execution_count": 5,
   "metadata": {},
   "outputs": [
    {
     "data": {
      "text/plain": [
       "179    2000-09-19\n",
       "957    1943-06-14\n",
       "836    1946-07-12\n",
       "799    2003-01-24\n",
       "911    1971-08-11\n",
       "642    1962-04-16\n",
       "991    1962-11-27\n",
       "373    1977-02-07\n",
       "847    1947-10-26\n",
       "874    2002-03-22\n",
       "Name: birthDate, dtype: object"
      ]
     },
     "execution_count": 5,
     "metadata": {},
     "output_type": "execute_result"
    }
   ],
   "source": [
    "np.random.seed(42)\n",
    "df['birthDate'] = [\n",
    "    date(\n",
    "        np.random.randint(1940, 2010),\n",
    "        np.random.randint(1, 12),\n",
    "        np.random.randint(1, 28)\n",
    "    )\n",
    "    for _ in range(0, n_rows)\n",
    "]\n",
    "df['birthDate'].sample(10)"
   ]
  },
  {
   "cell_type": "markdown",
   "metadata": {},
   "source": [
    "# Income"
   ]
  },
  {
   "cell_type": "code",
   "execution_count": 6,
   "metadata": {},
   "outputs": [
    {
     "data": {
      "text/plain": [
       "<matplotlib.axes._subplots.AxesSubplot at 0x2776aa438c8>"
      ]
     },
     "execution_count": 6,
     "metadata": {},
     "output_type": "execute_result"
    },
    {
     "data": {
      "image/png": "[encoded data removed]",
      "text/plain": [
       "<Figure size 432x288 with 1 Axes>"
      ]
     },
     "metadata": {
      "needs_background": "light"
     },
     "output_type": "display_data"
    }
   ],
   "source": [
    "np.random.seed(42)\n",
    "df['income'] = np.random.lognormal(0.7,1,size=n_rows)*600\n",
    "df['income'].hist(bins=100)"
   ]
  },
  {
   "cell_type": "markdown",
   "metadata": {},
   "source": [
    "# output"
   ]
  },
  {
   "cell_type": "code",
   "execution_count": 7,
   "metadata": {},
   "outputs": [],
   "source": [
    "df.to_excel('SerasaScore.xlsx')"
   ]
  },
  {
   "cell_type": "code",
   "execution_count": 8,
   "metadata": {},
   "outputs": [
    {
     "data": {
      "text/html": [
       "<div>\n",
       "<style scoped>\n",
       "    .dataframe tbody tr th:only-of-type {\n",
       "        vertical-align: middle;\n",
       "    }\n",
       "\n",
       "    .dataframe tbody tr th {\n",
       "        vertical-align: top;\n",
       "    }\n",
       "\n",
       "    .dataframe thead th {\n",
       "        text-align: right;\n",
       "    }\n",
       "</style>\n",
       "<table border=\"1\" class=\"dataframe\">\n",
       "  <thead>\n",
       "    <tr style=\"text-align: right;\">\n",
       "      <th></th>\n",
       "      <th>id</th>\n",
       "      <th>serasaScore</th>\n",
       "      <th>incomeSource</th>\n",
       "      <th>n_restrictions</th>\n",
       "      <th>birthDate</th>\n",
       "      <th>income</th>\n",
       "    </tr>\n",
       "  </thead>\n",
       "  <tbody>\n",
       "    <tr>\n",
       "      <th>541</th>\n",
       "      <td>541</td>\n",
       "      <td>297</td>\n",
       "      <td>1</td>\n",
       "      <td>0</td>\n",
       "      <td>1952-09-07</td>\n",
       "      <td>390.419890</td>\n",
       "    </tr>\n",
       "    <tr>\n",
       "      <th>466</th>\n",
       "      <td>466</td>\n",
       "      <td>543</td>\n",
       "      <td>3</td>\n",
       "      <td>16</td>\n",
       "      <td>1943-06-25</td>\n",
       "      <td>2232.989066</td>\n",
       "    </tr>\n",
       "    <tr>\n",
       "      <th>181</th>\n",
       "      <td>181</td>\n",
       "      <td>336</td>\n",
       "      <td>4</td>\n",
       "      <td>1</td>\n",
       "      <td>1991-03-26</td>\n",
       "      <td>512.741643</td>\n",
       "    </tr>\n",
       "    <tr>\n",
       "      <th>332</th>\n",
       "      <td>332</td>\n",
       "      <td>467</td>\n",
       "      <td>2</td>\n",
       "      <td>10</td>\n",
       "      <td>1953-03-06</td>\n",
       "      <td>1303.403519</td>\n",
       "    </tr>\n",
       "    <tr>\n",
       "      <th>40</th>\n",
       "      <td>40</td>\n",
       "      <td>561</td>\n",
       "      <td>1</td>\n",
       "      <td>17</td>\n",
       "      <td>1944-10-23</td>\n",
       "      <td>2528.537206</td>\n",
       "    </tr>\n",
       "    <tr>\n",
       "      <th>890</th>\n",
       "      <td>890</td>\n",
       "      <td>572</td>\n",
       "      <td>1</td>\n",
       "      <td>18</td>\n",
       "      <td>1990-05-19</td>\n",
       "      <td>2744.658221</td>\n",
       "    </tr>\n",
       "    <tr>\n",
       "      <th>80</th>\n",
       "      <td>80</td>\n",
       "      <td>425</td>\n",
       "      <td>2</td>\n",
       "      <td>7</td>\n",
       "      <td>1999-01-02</td>\n",
       "      <td>969.962846</td>\n",
       "    </tr>\n",
       "    <tr>\n",
       "      <th>198</th>\n",
       "      <td>198</td>\n",
       "      <td>465</td>\n",
       "      <td>2</td>\n",
       "      <td>10</td>\n",
       "      <td>2009-03-12</td>\n",
       "      <td>1280.669637</td>\n",
       "    </tr>\n",
       "    <tr>\n",
       "      <th>505</th>\n",
       "      <td>505</td>\n",
       "      <td>388</td>\n",
       "      <td>1</td>\n",
       "      <td>5</td>\n",
       "      <td>1977-08-27</td>\n",
       "      <td>742.337708</td>\n",
       "    </tr>\n",
       "    <tr>\n",
       "      <th>586</th>\n",
       "      <td>586</td>\n",
       "      <td>392</td>\n",
       "      <td>3</td>\n",
       "      <td>5</td>\n",
       "      <td>1946-11-20</td>\n",
       "      <td>763.237120</td>\n",
       "    </tr>\n",
       "  </tbody>\n",
       "</table>\n",
       "</div>"
      ],
      "text/plain": [
       "      id  serasaScore  incomeSource  n_restrictions   birthDate       income\n",
       "541  541          297             1               0  1952-09-07   390.419890\n",
       "466  466          543             3              16  1943-06-25  2232.989066\n",
       "181  181          336             4               1  1991-03-26   512.741643\n",
       "332  332          467             2              10  1953-03-06  1303.403519\n",
       "40    40          561             1              17  1944-10-23  2528.537206\n",
       "890  890          572             1              18  1990-05-19  2744.658221\n",
       "80    80          425             2               7  1999-01-02   969.962846\n",
       "198  198          465             2              10  2009-03-12  1280.669637\n",
       "505  505          388             1               5  1977-08-27   742.337708\n",
       "586  586          392             3               5  1946-11-20   763.237120"
      ]
     },
     "execution_count": 8,
     "metadata": {},
     "output_type": "execute_result"
    }
   ],
   "source": [
    "df.sample(10)"
   ]
  }
 ],
 "metadata": {
  "kernelspec": {
   "display_name": "Python 3",
   "language": "python",
   "name": "python3"
  },
  "language_info": {
   "codemirror_mode": {
    "name": "ipython",
    "version": 3
   },
   "file_extension": ".py",
   "mimetype": "text/x-python",
   "name": "python",
   "nbconvert_exporter": "python",
   "pygments_lexer": "ipython3",
   "version": "3.7.4"
  },
  "toc": {
   "base_numbering": 1,
   "nav_menu": {},
   "number_sections": true,
   "sideBar": true,
   "skip_h1_title": false,
   "title_cell": "Table of Contents",
   "title_sidebar": "Contents",
   "toc_cell": false,
   "toc_position": {},
   "toc_section_display": true,
   "toc_window_display": false
  }
 },
 "nbformat": 4,
 "nbformat_minor": 2
}
