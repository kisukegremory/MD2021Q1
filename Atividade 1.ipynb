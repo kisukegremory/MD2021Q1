{
 "cells": [
  {
   "cell_type": "code",
   "execution_count": 3,
   "metadata": {},
   "outputs": [],
   "source": [
    "import pandas as pd \n",
    "import numpy as np"
   ]
  },
  {
   "cell_type": "markdown",
   "metadata": {},
   "source": [
    "# Questão 1\n",
    "Essa base de dados contém o consumo médio de bebidas alcoólicas em diversos países. As colunas dessa base são o nome do país (country), consumo de cerveja (beer_servings), destilados (spirit_servings), vinho (wine_servings) e o total de consumo de bebidas alcoólicas para cada pais ('total_litres_of_pure_alcohol'). A(s) coluna(s) que tem distribuição platicúrtica (curtose < 0) é (são): (selecione todas que são verdadeiras)"
   ]
  },
  {
   "cell_type": "code",
   "execution_count": 4,
   "metadata": {},
   "outputs": [
    {
     "name": "stdout",
     "output_type": "stream",
     "text": [
      "beer_servings                  -0.462082\n",
      "total_litres_of_pure_alcohol   -0.980222\n",
      "dtype: float64\n"
     ]
    },
    {
     "data": {
      "text/html": [
       "<div>\n",
       "<style scoped>\n",
       "    .dataframe tbody tr th:only-of-type {\n",
       "        vertical-align: middle;\n",
       "    }\n",
       "\n",
       "    .dataframe tbody tr th {\n",
       "        vertical-align: top;\n",
       "    }\n",
       "\n",
       "    .dataframe thead th {\n",
       "        text-align: right;\n",
       "    }\n",
       "</style>\n",
       "<table border=\"1\" class=\"dataframe\">\n",
       "  <thead>\n",
       "    <tr style=\"text-align: right;\">\n",
       "      <th></th>\n",
       "      <th>country</th>\n",
       "      <th>beer_servings</th>\n",
       "      <th>spirit_servings</th>\n",
       "      <th>wine_servings</th>\n",
       "      <th>total_litres_of_pure_alcohol</th>\n",
       "    </tr>\n",
       "  </thead>\n",
       "  <tbody>\n",
       "    <tr>\n",
       "      <th>0</th>\n",
       "      <td>Afghanistan</td>\n",
       "      <td>0</td>\n",
       "      <td>0</td>\n",
       "      <td>0</td>\n",
       "      <td>0.0</td>\n",
       "    </tr>\n",
       "    <tr>\n",
       "      <th>1</th>\n",
       "      <td>Albania</td>\n",
       "      <td>89</td>\n",
       "      <td>132</td>\n",
       "      <td>54</td>\n",
       "      <td>4.9</td>\n",
       "    </tr>\n",
       "  </tbody>\n",
       "</table>\n",
       "</div>"
      ],
      "text/plain": [
       "       country  beer_servings  spirit_servings  wine_servings  \\\n",
       "0  Afghanistan              0                0              0   \n",
       "1      Albania             89              132             54   \n",
       "\n",
       "   total_litres_of_pure_alcohol  \n",
       "0                           0.0  \n",
       "1                           4.9  "
      ]
     },
     "execution_count": 4,
     "metadata": {},
     "output_type": "execute_result"
    }
   ],
   "source": [
    "df = pd.read_csv(\"https://raw.githubusercontent.com/fivethirtyeight/data/master/alcohol-consumption/drinks.csv\")\n",
    "print(df.kurt()[df.kurt() < 0])\n",
    "df.head(2)"
   ]
  },
  {
   "cell_type": "markdown",
   "metadata": {},
   "source": [
    "# Questão 2\n",
    "As colunas dessa base são o nome do país (country), consumo de cerveja (beer_servings), destilados (spirit_servings), vinho (wine_servings) e o total de consumo de bebidas alcoólicas para cada pais. O tipo de bebida que tem a maior mediana entre todos os países é:"
   ]
  },
  {
   "cell_type": "code",
   "execution_count": 5,
   "metadata": {},
   "outputs": [
    {
     "data": {
      "text/plain": [
       "beer_servings                   76.0\n",
       "spirit_servings                 56.0\n",
       "wine_servings                    8.0\n",
       "total_litres_of_pure_alcohol     4.2\n",
       "dtype: float64"
      ]
     },
     "execution_count": 5,
     "metadata": {},
     "output_type": "execute_result"
    }
   ],
   "source": [
    "df.median()"
   ]
  },
  {
   "cell_type": "markdown",
   "metadata": {},
   "source": [
    "# Questão 3\n",
    "A coluna 'tip' tem uma obliquidade  ???\n",
    " que a coluna 'tip_percapta', e a coluna 'tip' tem uma obliquidade\n",
    "???\n",
    " que a coluna 'tip_percent'."
   ]
  },
  {
   "cell_type": "code",
   "execution_count": 6,
   "metadata": {},
   "outputs": [
    {
     "data": {
      "text/html": [
       "<div>\n",
       "<style scoped>\n",
       "    .dataframe tbody tr th:only-of-type {\n",
       "        vertical-align: middle;\n",
       "    }\n",
       "\n",
       "    .dataframe tbody tr th {\n",
       "        vertical-align: top;\n",
       "    }\n",
       "\n",
       "    .dataframe thead th {\n",
       "        text-align: right;\n",
       "    }\n",
       "</style>\n",
       "<table border=\"1\" class=\"dataframe\">\n",
       "  <thead>\n",
       "    <tr style=\"text-align: right;\">\n",
       "      <th></th>\n",
       "      <th>total_bill</th>\n",
       "      <th>tip</th>\n",
       "      <th>sex</th>\n",
       "      <th>smoker</th>\n",
       "      <th>day</th>\n",
       "      <th>time</th>\n",
       "      <th>size</th>\n",
       "      <th>tip_percapita</th>\n",
       "      <th>tip_percent</th>\n",
       "    </tr>\n",
       "  </thead>\n",
       "  <tbody>\n",
       "    <tr>\n",
       "      <th>0</th>\n",
       "      <td>16.99</td>\n",
       "      <td>1.01</td>\n",
       "      <td>Female</td>\n",
       "      <td>No</td>\n",
       "      <td>Sun</td>\n",
       "      <td>Dinner</td>\n",
       "      <td>2</td>\n",
       "      <td>0.505000</td>\n",
       "      <td>0.059447</td>\n",
       "    </tr>\n",
       "    <tr>\n",
       "      <th>1</th>\n",
       "      <td>10.34</td>\n",
       "      <td>1.66</td>\n",
       "      <td>Male</td>\n",
       "      <td>No</td>\n",
       "      <td>Sun</td>\n",
       "      <td>Dinner</td>\n",
       "      <td>3</td>\n",
       "      <td>0.553333</td>\n",
       "      <td>0.160542</td>\n",
       "    </tr>\n",
       "  </tbody>\n",
       "</table>\n",
       "</div>"
      ],
      "text/plain": [
       "   total_bill   tip     sex smoker  day    time  size  tip_percapita  \\\n",
       "0       16.99  1.01  Female     No  Sun  Dinner     2       0.505000   \n",
       "1       10.34  1.66    Male     No  Sun  Dinner     3       0.553333   \n",
       "\n",
       "   tip_percent  \n",
       "0     0.059447  \n",
       "1     0.160542  "
      ]
     },
     "execution_count": 6,
     "metadata": {},
     "output_type": "execute_result"
    }
   ],
   "source": [
    "tips = pd.read_csv(\"https://raw.githubusercontent.com/schloerke/cranvasOLD/master/files/data/tips.csv\")\n",
    "tips = tips.iloc[:,1:]\n",
    "tips['tip_percapita'] = tips['tip']/tips['size']\n",
    "tips['tip_percent'] = tips['tip']/tips['total_bill']\n",
    "tips.head(2)"
   ]
  },
  {
   "cell_type": "code",
   "execution_count": 11,
   "metadata": {},
   "outputs": [
    {
     "data": {
      "text/plain": [
       "tip_percapita    1.093185\n",
       "tip              1.465451\n",
       "tip_percent      3.349217\n",
       "dtype: float64"
      ]
     },
     "execution_count": 11,
     "metadata": {},
     "output_type": "execute_result"
    }
   ],
   "source": [
    "tips[['tip_percapita','tip','tip_percent']].skew()"
   ]
  },
  {
   "cell_type": "markdown",
   "metadata": {},
   "source": [
    "# Questão 4\n",
    "Essa base de dados contém informações nutricionais sobre diferentes tipos de chocolate, com as colunas nome (Name), fabricante (MFR), país (Country), tipo (Type), caloria (Calories), calorias referente a gordura (CalFat), total de gordura (TotalFat), colesterol (Chol), Sódio (Na), carboidratos (Carb), Fibras (Fiber), açúcares (Sugar), e proteínas (Protein). Para essa base de dados, responda (dica: se estiver usando o pandas, pesquise pelo uso groupby, que pode lhe ajudar em alguns casos).\n",
    "\n",
    "O desvio padrão da coluna colesterol (Chol) é maior para o tipo (Type) Resposta\n",
    ", o país (Country) cuja média de acúçar (Sugar) é maior é o Resposta\n",
    "."
   ]
  },
  {
   "cell_type": "code",
   "execution_count": 16,
   "metadata": {},
   "outputs": [
    {
     "data": {
      "text/html": [
       "<div>\n",
       "<style scoped>\n",
       "    .dataframe tbody tr th:only-of-type {\n",
       "        vertical-align: middle;\n",
       "    }\n",
       "\n",
       "    .dataframe tbody tr th {\n",
       "        vertical-align: top;\n",
       "    }\n",
       "\n",
       "    .dataframe thead th {\n",
       "        text-align: right;\n",
       "    }\n",
       "</style>\n",
       "<table border=\"1\" class=\"dataframe\">\n",
       "  <thead>\n",
       "    <tr style=\"text-align: right;\">\n",
       "      <th></th>\n",
       "      <th>Name</th>\n",
       "      <th>MFR</th>\n",
       "      <th>Country</th>\n",
       "      <th>Type</th>\n",
       "      <th>Calories</th>\n",
       "      <th>CalFat</th>\n",
       "      <th>TotFat</th>\n",
       "      <th>SatFat</th>\n",
       "      <th>Chol</th>\n",
       "      <th>Na</th>\n",
       "      <th>Carbs</th>\n",
       "      <th>Fiber</th>\n",
       "      <th>Sugars</th>\n",
       "      <th>Protein</th>\n",
       "    </tr>\n",
       "  </thead>\n",
       "  <tbody>\n",
       "    <tr>\n",
       "      <th>0</th>\n",
       "      <td>Noir 86% Cacao</td>\n",
       "      <td>Cote D'Or</td>\n",
       "      <td>Belgium</td>\n",
       "      <td>Dark</td>\n",
       "      <td>460.0</td>\n",
       "      <td>380.0</td>\n",
       "      <td>44.0</td>\n",
       "      <td>26.0</td>\n",
       "      <td>0.0</td>\n",
       "      <td>0.0</td>\n",
       "      <td>28.0</td>\n",
       "      <td>10.0</td>\n",
       "      <td>10.0</td>\n",
       "      <td>8.0</td>\n",
       "    </tr>\n",
       "    <tr>\n",
       "      <th>1</th>\n",
       "      <td>70% Cocoa</td>\n",
       "      <td>Cote D'Or</td>\n",
       "      <td>Belgium</td>\n",
       "      <td>Dark</td>\n",
       "      <td>600.0</td>\n",
       "      <td>432.0</td>\n",
       "      <td>48.0</td>\n",
       "      <td>30.0</td>\n",
       "      <td>10.0</td>\n",
       "      <td>0.0</td>\n",
       "      <td>42.0</td>\n",
       "      <td>10.0</td>\n",
       "      <td>28.0</td>\n",
       "      <td>8.0</td>\n",
       "    </tr>\n",
       "  </tbody>\n",
       "</table>\n",
       "</div>"
      ],
      "text/plain": [
       "             Name        MFR  Country  Type  Calories  CalFat  TotFat  SatFat  \\\n",
       "0  Noir 86% Cacao  Cote D'Or  Belgium  Dark     460.0   380.0    44.0    26.0   \n",
       "1       70% Cocoa  Cote D'Or  Belgium  Dark     600.0   432.0    48.0    30.0   \n",
       "\n",
       "   Chol   Na  Carbs  Fiber  Sugars  Protein  \n",
       "0   0.0  0.0   28.0   10.0    10.0      8.0  \n",
       "1  10.0  0.0   42.0   10.0    28.0      8.0  "
      ]
     },
     "execution_count": 16,
     "metadata": {},
     "output_type": "execute_result"
    }
   ],
   "source": [
    "df = pd.read_csv(\"https://raw.githubusercontent.com/schloerke/cranvasOLD/master/files/data/chocolates.csv\")\n",
    "df.head(2)"
   ]
  },
  {
   "cell_type": "code",
   "execution_count": 17,
   "metadata": {},
   "outputs": [
    {
     "data": {
      "text/plain": [
       "Type\n",
       "Dark    7.391411\n",
       "Milk    9.255840\n",
       "Name: Chol, dtype: float64"
      ]
     },
     "execution_count": 17,
     "metadata": {},
     "output_type": "execute_result"
    }
   ],
   "source": [
    "df.groupby(\"Type\")['Chol'].std()"
   ]
  },
  {
   "cell_type": "code",
   "execution_count": 18,
   "metadata": {},
   "outputs": [
    {
     "data": {
      "text/plain": [
       "Country\n",
       "Austria        57.537879\n",
       "Belgium        35.881920\n",
       "Colombia       37.619048\n",
       "France         33.777512\n",
       "German         46.695000\n",
       "Switzerland    42.662003\n",
       "UK             21.156293\n",
       "US             41.570380\n",
       "Name: Sugars, dtype: float64"
      ]
     },
     "execution_count": 18,
     "metadata": {},
     "output_type": "execute_result"
    }
   ],
   "source": [
    "df.groupby(\"Country\")['Sugars'].mean()"
   ]
  },
  {
   "cell_type": "markdown",
   "metadata": {},
   "source": [
    "# Questão 5\n",
    "Essa base de dados contém dados sobre indígenas da etnia Pima (dos EUA), com relação a incidência de diabetes.\n",
    "\n",
    "pregnancy: número de gravidezes\n",
    "plasma: concentração de glucose no plasma\n",
    "diastolic_bp: pressão sanguínea diastólica\n",
    "triceps: espessura do trícepes\n",
    "insulin: nível de insulana\n",
    "bmi: índice de massa corporal\n",
    "diabets pedigree: escore do histórico familiar de diabetes\n",
    "age: idade\n",
    "diagnostic: diagnóstico 0 (não diabético), 1 (diabético)\n",
    "\n",
    "\n",
    "A quantidade de valores ausentes para o atributo insulin é maior para o diagnóstico\n",
    "0\n",
    "\n",
    "Remover os registros com valores ausentes\n",
    "Aumenta\n",
    " a média da coluna bmi.\n",
    "\n",
    "Substituir os valores ausentes pela média\n",
    "Diminui\n",
    " o desvio padrão da coluna distolic_pb."
   ]
  },
  {
   "cell_type": "code",
   "execution_count": 19,
   "metadata": {},
   "outputs": [
    {
     "data": {
      "text/html": [
       "<div>\n",
       "<style scoped>\n",
       "    .dataframe tbody tr th:only-of-type {\n",
       "        vertical-align: middle;\n",
       "    }\n",
       "\n",
       "    .dataframe tbody tr th {\n",
       "        vertical-align: top;\n",
       "    }\n",
       "\n",
       "    .dataframe thead th {\n",
       "        text-align: right;\n",
       "    }\n",
       "</style>\n",
       "<table border=\"1\" class=\"dataframe\">\n",
       "  <thead>\n",
       "    <tr style=\"text-align: right;\">\n",
       "      <th></th>\n",
       "      <th>Unnamed: 0</th>\n",
       "      <th>pregnancy</th>\n",
       "      <th>plasma</th>\n",
       "      <th>diastolic_bp</th>\n",
       "      <th>triceps</th>\n",
       "      <th>insulin</th>\n",
       "      <th>bmi</th>\n",
       "      <th>diabets pedigree</th>\n",
       "      <th>age</th>\n",
       "      <th>diagnostic</th>\n",
       "    </tr>\n",
       "  </thead>\n",
       "  <tbody>\n",
       "    <tr>\n",
       "      <th>0</th>\n",
       "      <td>0</td>\n",
       "      <td>6</td>\n",
       "      <td>148.0</td>\n",
       "      <td>72.0</td>\n",
       "      <td>35.0</td>\n",
       "      <td>NaN</td>\n",
       "      <td>33.6</td>\n",
       "      <td>0.627</td>\n",
       "      <td>50</td>\n",
       "      <td>1</td>\n",
       "    </tr>\n",
       "    <tr>\n",
       "      <th>1</th>\n",
       "      <td>1</td>\n",
       "      <td>1</td>\n",
       "      <td>85.0</td>\n",
       "      <td>66.0</td>\n",
       "      <td>29.0</td>\n",
       "      <td>NaN</td>\n",
       "      <td>26.6</td>\n",
       "      <td>0.351</td>\n",
       "      <td>31</td>\n",
       "      <td>0</td>\n",
       "    </tr>\n",
       "  </tbody>\n",
       "</table>\n",
       "</div>"
      ],
      "text/plain": [
       "   Unnamed: 0  pregnancy  plasma  diastolic_bp  triceps  insulin   bmi  \\\n",
       "0           0          6   148.0          72.0     35.0      NaN  33.6   \n",
       "1           1          1    85.0          66.0     29.0      NaN  26.6   \n",
       "\n",
       "   diabets pedigree  age  diagnostic  \n",
       "0             0.627   50           1  \n",
       "1             0.351   31           0  "
      ]
     },
     "execution_count": 19,
     "metadata": {},
     "output_type": "execute_result"
    }
   ],
   "source": [
    "df = pd.read_csv(\"http://professor.ufabc.edu.br/~ronaldo.prati/MineracaoDados/bases/pima.csv\")\n",
    "df.head(2)"
   ]
  },
  {
   "cell_type": "code",
   "execution_count": 36,
   "metadata": {},
   "outputs": [
    {
     "data": {
      "text/plain": [
       "diagnostic\n",
       "0    236\n",
       "1    138\n",
       "Name: insulin, dtype: int64"
      ]
     },
     "execution_count": 36,
     "metadata": {},
     "output_type": "execute_result"
    }
   ],
   "source": [
    "df.insulin.isnull().groupby(df['diagnostic']).sum()"
   ]
  },
  {
   "cell_type": "code",
   "execution_count": 39,
   "metadata": {},
   "outputs": [
    {
     "name": "stdout",
     "output_type": "stream",
     "text": [
      "Original: 32.45746367239099\n",
      "Dropped: 33.086224489795896\n"
     ]
    }
   ],
   "source": [
    "print(\"Original:\", df.bmi.mean())\n",
    "print(\"Dropped:\", df.dropna().bmi.mean())"
   ]
  },
  {
   "cell_type": "code",
   "execution_count": 42,
   "metadata": {},
   "outputs": [
    {
     "name": "stdout",
     "output_type": "stream",
     "text": [
      "Original: 12.382158210105263\n",
      "Replaced: 12.096346184037948\n"
     ]
    }
   ],
   "source": [
    "print(\"Original:\", df.diastolic_bp.std())\n",
    "print(\"Replaced:\", df.diastolic_bp.fillna(df.diastolic_bp.mean()).std())"
   ]
  }
 ],
 "metadata": {
  "kernelspec": {
   "display_name": "Python 3",
   "language": "python",
   "name": "python3"
  },
  "language_info": {
   "codemirror_mode": {
    "name": "ipython",
    "version": 3
   },
   "file_extension": ".py",
   "mimetype": "text/x-python",
   "name": "python",
   "nbconvert_exporter": "python",
   "pygments_lexer": "ipython3",
   "version": "3.7.4"
  },
  "toc": {
   "base_numbering": 1,
   "nav_menu": {},
   "number_sections": true,
   "sideBar": true,
   "skip_h1_title": false,
   "title_cell": "Table of Contents",
   "title_sidebar": "Contents",
   "toc_cell": false,
   "toc_position": {},
   "toc_section_display": true,
   "toc_window_display": false
  }
 },
 "nbformat": 4,
 "nbformat_minor": 2
}
