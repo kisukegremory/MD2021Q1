{
 "cells": [
  {
   "cell_type": "code",
   "execution_count": 51,
   "metadata": {},
   "outputs": [],
   "source": [
    "import pandas as pd\n",
    "import numpy as np\n",
    "import os\n",
    "import matplotlib.pyplot as plt \n",
    "import seaborn as sns\n",
    "import warnings\n",
    "\n",
    "warnings.filterwarnings(\"ignore\")"
   ]
  },
  {
   "cell_type": "markdown",
   "metadata": {},
   "source": [
    "# Database"
   ]
  },
  {
   "cell_type": "code",
   "execution_count": 52,
   "metadata": {},
   "outputs": [
    {
     "name": "stdout",
     "output_type": "stream",
     "text": [
      "audi.csv - Nulls: 0\n",
      "ford.csv - Nulls: 0\n",
      "merc.csv - Nulls: 0\n",
      "skoda.csv - Nulls: 0\n",
      "toyota.csv - Nulls: 0\n",
      "vauxhall.csv - Nulls: 0\n",
      "vw.csv - Nulls: 0\n"
     ]
    },
    {
     "data": {
      "text/html": [
       "<div>\n",
       "<style scoped>\n",
       "    .dataframe tbody tr th:only-of-type {\n",
       "        vertical-align: middle;\n",
       "    }\n",
       "\n",
       "    .dataframe tbody tr th {\n",
       "        vertical-align: top;\n",
       "    }\n",
       "\n",
       "    .dataframe thead th {\n",
       "        text-align: right;\n",
       "    }\n",
       "</style>\n",
       "<table border=\"1\" class=\"dataframe\">\n",
       "  <thead>\n",
       "    <tr style=\"text-align: right;\">\n",
       "      <th></th>\n",
       "      <th>model</th>\n",
       "      <th>year</th>\n",
       "      <th>price</th>\n",
       "      <th>transmission</th>\n",
       "      <th>mileage</th>\n",
       "      <th>fuelType</th>\n",
       "      <th>tax</th>\n",
       "      <th>mpg</th>\n",
       "      <th>engineSize</th>\n",
       "      <th>car</th>\n",
       "    </tr>\n",
       "  </thead>\n",
       "  <tbody>\n",
       "    <tr>\n",
       "      <th>3515</th>\n",
       "      <td>Fiesta</td>\n",
       "      <td>2016</td>\n",
       "      <td>9851</td>\n",
       "      <td>Manual</td>\n",
       "      <td>28581</td>\n",
       "      <td>Diesel</td>\n",
       "      <td>0</td>\n",
       "      <td>78.5</td>\n",
       "      <td>1.5</td>\n",
       "      <td>ford</td>\n",
       "    </tr>\n",
       "    <tr>\n",
       "      <th>3253</th>\n",
       "      <td>M Class</td>\n",
       "      <td>2013</td>\n",
       "      <td>15250</td>\n",
       "      <td>Automatic</td>\n",
       "      <td>56164</td>\n",
       "      <td>Diesel</td>\n",
       "      <td>200</td>\n",
       "      <td>44.8</td>\n",
       "      <td>2.1</td>\n",
       "      <td>merc</td>\n",
       "    </tr>\n",
       "    <tr>\n",
       "      <th>7997</th>\n",
       "      <td>Polo</td>\n",
       "      <td>2019</td>\n",
       "      <td>18745</td>\n",
       "      <td>Semi-Auto</td>\n",
       "      <td>4687</td>\n",
       "      <td>Petrol</td>\n",
       "      <td>145</td>\n",
       "      <td>39.8</td>\n",
       "      <td>2.0</td>\n",
       "      <td>vw</td>\n",
       "    </tr>\n",
       "    <tr>\n",
       "      <th>8172</th>\n",
       "      <td>Polo</td>\n",
       "      <td>2017</td>\n",
       "      <td>9990</td>\n",
       "      <td>Manual</td>\n",
       "      <td>20978</td>\n",
       "      <td>Petrol</td>\n",
       "      <td>145</td>\n",
       "      <td>60.1</td>\n",
       "      <td>1.2</td>\n",
       "      <td>vw</td>\n",
       "    </tr>\n",
       "    <tr>\n",
       "      <th>3446</th>\n",
       "      <td>Golf</td>\n",
       "      <td>2016</td>\n",
       "      <td>11450</td>\n",
       "      <td>Semi-Auto</td>\n",
       "      <td>43050</td>\n",
       "      <td>Diesel</td>\n",
       "      <td>30</td>\n",
       "      <td>62.8</td>\n",
       "      <td>2.0</td>\n",
       "      <td>vw</td>\n",
       "    </tr>\n",
       "  </tbody>\n",
       "</table>\n",
       "</div>"
      ],
      "text/plain": [
       "         model  year  price transmission  mileage fuelType  tax   mpg  \\\n",
       "3515    Fiesta  2016   9851       Manual    28581   Diesel    0  78.5   \n",
       "3253   M Class  2013  15250    Automatic    56164   Diesel  200  44.8   \n",
       "7997      Polo  2019  18745    Semi-Auto     4687   Petrol  145  39.8   \n",
       "8172      Polo  2017   9990       Manual    20978   Petrol  145  60.1   \n",
       "3446      Golf  2016  11450    Semi-Auto    43050   Diesel   30  62.8   \n",
       "\n",
       "      engineSize   car  \n",
       "3515         1.5  ford  \n",
       "3253         2.1  merc  \n",
       "7997         2.0    vw  \n",
       "8172         1.2    vw  \n",
       "3446         2.0    vw  "
      ]
     },
     "execution_count": 52,
     "metadata": {},
     "output_type": "execute_result"
    }
   ],
   "source": [
    "df = pd.DataFrame()\n",
    "for tmp in os.listdir(\"bases/car-db/\"):\n",
    "    tmpDF = pd.read_csv(f\"bases/car-db/{tmp}\")\n",
    "    tmpDF['car'] = tmp.split(\".\")[0]\n",
    "    df = df.append(tmpDF)\n",
    "    print(f\"{tmp} - Nulls: {df.isna().sum().sum()}\")\n",
    "df.sample(5)"
   ]
  },
  {
   "cell_type": "code",
   "execution_count": 53,
   "metadata": {},
   "outputs": [],
   "source": [
    "target_name = 'price'"
   ]
  },
  {
   "cell_type": "markdown",
   "metadata": {},
   "source": [
    "# Categories"
   ]
  },
  {
   "cell_type": "code",
   "execution_count": 54,
   "metadata": {},
   "outputs": [
    {
     "data": {
      "text/plain": [
       "transmission      4\n",
       "fuelType          5\n",
       "car               7\n",
       "model           155\n",
       "dtype: int64"
      ]
     },
     "execution_count": 54,
     "metadata": {},
     "output_type": "execute_result"
    }
   ],
   "source": [
    "categories_cols = df.columns[df.dtypes == object]\n",
    "df[categories_cols].nunique().sort_values()"
   ]
  },
  {
   "cell_type": "code",
   "execution_count": 56,
   "metadata": {},
   "outputs": [
    {
     "data": {
      "image/png": "[encoded data removed]",
      "text/plain": [
       "<Figure size 1800x216 with 3 Axes>"
      ]
     },
     "metadata": {
      "needs_background": "light"
     },
     "output_type": "display_data"
    }
   ],
   "source": [
    "# Model high Cardinality\n",
    "df.drop('model',axis=1,inplace=True,errors='ignore')\n",
    "\n",
    "categories_cols = df.columns[df.dtypes == object]\n",
    "f,axs = plt.subplots(1,3,figsize=(25,3))\n",
    "for index,col in enumerate(categories_cols):\n",
    "    axs[index].set_title(f\"barplot - {col}\")\n",
    "    sns.barplot(y='price',x=col,data=df,ax=axs[index])\n",
    "plt.show()"
   ]
  },
  {
   "cell_type": "markdown",
   "metadata": {},
   "source": [
    "# Numeric"
   ]
  },
  {
   "cell_type": "code",
   "execution_count": 57,
   "metadata": {},
   "outputs": [
    {
     "data": {
      "image/png": "[encoded data removed]",
      "text/plain": [
       "<Figure size 1800x216 with 3 Axes>"
      ]
     },
     "metadata": {
      "needs_background": "light"
     },
     "output_type": "display_data"
    },
    {
     "data": {
      "image/png": "[encoded data removed]",
      "text/plain": [
       "<Figure size 1800x216 with 3 Axes>"
      ]
     },
     "metadata": {
      "needs_background": "light"
     },
     "output_type": "display_data"
    }
   ],
   "source": [
    "numeric_cols = df.columns[(df.dtypes != object)]\n",
    "\n",
    "\n",
    "f,axs = plt.subplots(1,3,figsize=(25,3))\n",
    "for index,col in enumerate(numeric_cols[:3]):\n",
    "    axs[index].set_title(f\"boxplot - {col}\")\n",
    "    sns.boxplot(df[col],ax=axs[index])\n",
    "plt.show()\n",
    "\n",
    "f,axs = plt.subplots(1,3,figsize=(25,3))\n",
    "for index,col in enumerate(numeric_cols[3:]):\n",
    "    axs[index].set_title(f\"boxplot - {col}\")\n",
    "    sns.boxplot(df[col],ax=axs[index])\n",
    "plt.show()"
   ]
  },
  {
   "cell_type": "code",
   "execution_count": 58,
   "metadata": {},
   "outputs": [
    {
     "data": {
      "image/png": "[encoded data removed]",
      "text/plain": [
       "<Figure size 1440x504 with 2 Axes>"
      ]
     },
     "metadata": {
      "needs_background": "light"
     },
     "output_type": "display_data"
    }
   ],
   "source": [
    "plt.figure(figsize=(20,7))\n",
    "sns.heatmap(df.corr(),annot=True)\n",
    "plt.show()"
   ]
  },
  {
   "cell_type": "code",
   "execution_count": 59,
   "metadata": {},
   "outputs": [
    {
     "data": {
      "text/html": [
       "<div>\n",
       "<style scoped>\n",
       "    .dataframe tbody tr th:only-of-type {\n",
       "        vertical-align: middle;\n",
       "    }\n",
       "\n",
       "    .dataframe tbody tr th {\n",
       "        vertical-align: top;\n",
       "    }\n",
       "\n",
       "    .dataframe thead th {\n",
       "        text-align: right;\n",
       "    }\n",
       "</style>\n",
       "<table border=\"1\" class=\"dataframe\">\n",
       "  <thead>\n",
       "    <tr style=\"text-align: right;\">\n",
       "      <th></th>\n",
       "      <th>0.00</th>\n",
       "      <th>0.01</th>\n",
       "      <th>0.05</th>\n",
       "      <th>0.50</th>\n",
       "      <th>0.95</th>\n",
       "      <th>0.99</th>\n",
       "      <th>1.00</th>\n",
       "    </tr>\n",
       "  </thead>\n",
       "  <tbody>\n",
       "    <tr>\n",
       "      <th>year</th>\n",
       "      <td>1970.0</td>\n",
       "      <td>2010.0</td>\n",
       "      <td>2014.0</td>\n",
       "      <td>2017.0</td>\n",
       "      <td>2019.0</td>\n",
       "      <td>2020.0</td>\n",
       "      <td>2060.0</td>\n",
       "    </tr>\n",
       "    <tr>\n",
       "      <th>price</th>\n",
       "      <td>450.0</td>\n",
       "      <td>3990.0</td>\n",
       "      <td>6490.0</td>\n",
       "      <td>13990.0</td>\n",
       "      <td>32995.0</td>\n",
       "      <td>49990.0</td>\n",
       "      <td>159999.0</td>\n",
       "    </tr>\n",
       "    <tr>\n",
       "      <th>mileage</th>\n",
       "      <td>1.0</td>\n",
       "      <td>10.0</td>\n",
       "      <td>1000.0</td>\n",
       "      <td>17384.0</td>\n",
       "      <td>63100.0</td>\n",
       "      <td>96000.0</td>\n",
       "      <td>323000.0</td>\n",
       "    </tr>\n",
       "    <tr>\n",
       "      <th>tax</th>\n",
       "      <td>0.0</td>\n",
       "      <td>0.0</td>\n",
       "      <td>0.0</td>\n",
       "      <td>145.0</td>\n",
       "      <td>200.0</td>\n",
       "      <td>260.0</td>\n",
       "      <td>580.0</td>\n",
       "    </tr>\n",
       "    <tr>\n",
       "      <th>mpg</th>\n",
       "      <td>0.3</td>\n",
       "      <td>30.1</td>\n",
       "      <td>36.7</td>\n",
       "      <td>54.3</td>\n",
       "      <td>74.3</td>\n",
       "      <td>83.1</td>\n",
       "      <td>235.4</td>\n",
       "    </tr>\n",
       "    <tr>\n",
       "      <th>engineSize</th>\n",
       "      <td>0.0</td>\n",
       "      <td>1.0</td>\n",
       "      <td>1.0</td>\n",
       "      <td>1.5</td>\n",
       "      <td>2.4</td>\n",
       "      <td>3.0</td>\n",
       "      <td>6.3</td>\n",
       "    </tr>\n",
       "  </tbody>\n",
       "</table>\n",
       "</div>"
      ],
      "text/plain": [
       "              0.00    0.01    0.05     0.50     0.95     0.99      1.00\n",
       "year        1970.0  2010.0  2014.0   2017.0   2019.0   2020.0    2060.0\n",
       "price        450.0  3990.0  6490.0  13990.0  32995.0  49990.0  159999.0\n",
       "mileage        1.0    10.0  1000.0  17384.0  63100.0  96000.0  323000.0\n",
       "tax            0.0     0.0     0.0    145.0    200.0    260.0     580.0\n",
       "mpg            0.3    30.1    36.7     54.3     74.3     83.1     235.4\n",
       "engineSize     0.0     1.0     1.0      1.5      2.4      3.0       6.3"
      ]
     },
     "execution_count": 59,
     "metadata": {},
     "output_type": "execute_result"
    }
   ],
   "source": [
    "df.quantile([0,0.01,0.05,0.5,0.95,0.99,1]).T"
   ]
  },
  {
   "cell_type": "code",
   "execution_count": 60,
   "metadata": {},
   "outputs": [],
   "source": [
    "import pandas_profiling\n",
    "\n",
    "report = pandas_profiling.ProfileReport(df, title='Profile Report', html={'style':{'full_width':True}})"
   ]
  },
  {
   "cell_type": "code",
   "execution_count": 61,
   "metadata": {},
   "outputs": [
    {
     "data": {
      "application/vnd.jupyter.widget-view+json": {
       "model_id": "18ebd393576a43c7b4f11d2bdf3b23c7",
       "version_major": 2,
       "version_minor": 0
      },
      "text/plain": [
       "HBox(children=(FloatProgress(value=0.0, description='Summarize dataset', max=24.0, style=ProgressStyle(descrip…"
      ]
     },
     "metadata": {},
     "output_type": "display_data"
    },
    {
     "name": "stdout",
     "output_type": "stream",
     "text": [
      "\n"
     ]
    },
    {
     "data": {
      "application/vnd.jupyter.widget-view+json": {
       "model_id": "973d0e70432a4346a1b09370e8dc8024",
       "version_major": 2,
       "version_minor": 0
      },
      "text/plain": [
       "HBox(children=(FloatProgress(value=0.0, description='Generate report structure', max=1.0, style=ProgressStyle(…"
      ]
     },
     "metadata": {},
     "output_type": "display_data"
    },
    {
     "name": "stdout",
     "output_type": "stream",
     "text": [
      "\n"
     ]
    },
    {
     "data": {
      "application/vnd.jupyter.widget-view+json": {
       "model_id": "e4f1afe18cff4eaa9de1f1f1ebab81f5",
       "version_major": 2,
       "version_minor": 0
      },
      "text/plain": [
       "HBox(children=(FloatProgress(value=0.0, description='Render HTML', max=1.0, style=ProgressStyle(description_wi…"
      ]
     },
     "metadata": {},
     "output_type": "display_data"
    },
    {
     "name": "stdout",
     "output_type": "stream",
     "text": [
      "\n"
     ]
    },
    {
     "data": {
      "application/vnd.jupyter.widget-view+json": {
       "model_id": "80d0260216a24c548446ccb2cf903d17",
       "version_major": 2,
       "version_minor": 0
      },
      "text/plain": [
       "HBox(children=(FloatProgress(value=0.0, description='Export report to file', max=1.0, style=ProgressStyle(desc…"
      ]
     },
     "metadata": {},
     "output_type": "display_data"
    },
    {
     "name": "stdout",
     "output_type": "stream",
     "text": [
      "\n"
     ]
    }
   ],
   "source": [
    "report.to_file(\"carAnalysis.html\")"
   ]
  },
  {
   "cell_type": "code",
   "execution_count": 62,
   "metadata": {},
   "outputs": [],
   "source": [
    "# Year Outlier\n",
    "df = df[(df.year < 2022) & (df.year > 2009)]\n",
    "df = df[df.engineSize > 0]"
   ]
  },
  {
   "cell_type": "markdown",
   "metadata": {},
   "source": [
    "# Modelling"
   ]
  },
  {
   "cell_type": "code",
   "execution_count": 63,
   "metadata": {},
   "outputs": [],
   "source": [
    "from sklearn.preprocessing import StandardScaler,MinMaxScaler\n",
    "from sklearn.model_selection import train_test_split"
   ]
  },
  {
   "cell_type": "code",
   "execution_count": 64,
   "metadata": {},
   "outputs": [],
   "source": [
    "df = pd.get_dummies(df,drop_first=True)"
   ]
  },
  {
   "cell_type": "code",
   "execution_count": 65,
   "metadata": {},
   "outputs": [],
   "source": [
    "df.reset_index(drop=True,inplace=True)\n",
    "X = df.drop('price',axis=1)\n",
    "y = df['price']"
   ]
  },
  {
   "cell_type": "code",
   "execution_count": 66,
   "metadata": {},
   "outputs": [],
   "source": [
    "scaler = StandardScaler()\n",
    "# same scale\n",
    "X = pd.DataFrame(scaler.fit_transform(X),columns=X.columns)\n",
    "\n",
    "MMscaler = MinMaxScaler()\n",
    "for col in X.columns[X.nunique() == 2]:\n",
    "    X[col] = MMscaler.fit_transform(X[[col]]).astype(int)"
   ]
  },
  {
   "cell_type": "code",
   "execution_count": 67,
   "metadata": {},
   "outputs": [],
   "source": [
    "X_train, X_test, y_train, y_test = train_test_split(X, y, test_size=0.20, random_state=42)"
   ]
  },
  {
   "cell_type": "code",
   "execution_count": 84,
   "metadata": {},
   "outputs": [],
   "source": [
    "from sklearn.linear_model import LinearRegression, ElasticNet,SGDRegressor\n",
    "from sklearn.tree import DecisionTreeRegressor\n",
    "from sklearn.neighbors import KNeighborsRegressor\n",
    "from sklearn.ensemble import GradientBoostingRegressor,RandomForestRegressor\n",
    "from sklearn.svm import LinearSVR"
   ]
  },
  {
   "cell_type": "code",
   "execution_count": 69,
   "metadata": {},
   "outputs": [],
   "source": [
    "from sklearn.model_selection import cross_validate, KFold, GridSearchCV"
   ]
  },
  {
   "cell_type": "markdown",
   "metadata": {},
   "source": [
    "# Models"
   ]
  },
  {
   "cell_type": "code",
   "execution_count": 85,
   "metadata": {},
   "outputs": [],
   "source": [
    "models = [\n",
    "        {\n",
    "            'model_name':'GradientBoostingRegressor',\n",
    "            'params':{\n",
    "                'n_estimators':[10,30],\n",
    "                'max_depth':[1,4,10,None],\n",
    "            },\n",
    "            'model':GradientBoostingRegressor(random_state=42),\n",
    "        },\n",
    "        {\n",
    "            'model_name':'LinearSVR',\n",
    "            'params':{\n",
    "                'C':[0.1,1,10],\n",
    "            },\n",
    "            'model':LinearSVR(random_state=42),\n",
    "        },\n",
    "        {\n",
    "            'model_name':'RandomForestRegressor',\n",
    "            'params':{\n",
    "                'n_estimators':[10,30],\n",
    "                'max_depth':[1,4,10,None],\n",
    "            },\n",
    "            'model':RandomForestRegressor(random_state=42),\n",
    "        },\n",
    "    {\n",
    "        'model_name':'ElasticNet',\n",
    "        'params':{\n",
    "            'alpha':[0,0.1,0.5,0.9,1],\n",
    "            'l1_ratio':[0,0.1,0.5,0.9,1],\n",
    "        },\n",
    "        'model':ElasticNet(),\n",
    "    },\n",
    "    {\n",
    "        'model_name':'DecisionTreeRegressor',\n",
    "        'params':{\n",
    "            'max_depth':[3,10,40,None],\n",
    "            'min_samples_split':[2,50,300]\n",
    "        },\n",
    "        'model':DecisionTreeRegressor(),\n",
    "    },\n",
    "    {\n",
    "        'model_name':'KNeighborsRegressor',\n",
    "        'params':{\n",
    "            \"n_neighbors\":[3,5,7,9]\n",
    "        },\n",
    "        'model':KNeighborsRegressor(),\n",
    "    }\n",
    "]"
   ]
  },
  {
   "cell_type": "markdown",
   "metadata": {},
   "source": [
    "# Cross Validation"
   ]
  },
  {
   "cell_type": "code",
   "execution_count": 86,
   "metadata": {},
   "outputs": [
    {
     "name": "stdout",
     "output_type": "stream",
     "text": [
      "-----------\n",
      "GradientBoostingRegressor\n",
      "\t 0.9302727498313266\n",
      "-----------\n",
      "LinearSVR\n",
      "\t 0.7646802133718819\n",
      "-----------\n",
      "RandomForestRegressor\n",
      "\t 0.9333454098587779\n",
      "-----------\n",
      "ElasticNet\n",
      "\t 0.7876084386999921\n",
      "-----------\n",
      "DecisionTreeRegressor\n",
      "\t 0.9099238650180445\n",
      "-----------\n",
      "KNeighborsRegressor\n",
      "\t 0.909141854062035\n"
     ]
    }
   ],
   "source": [
    "evaluation = []\n",
    "cv = KFold(3,shuffle=True,random_state=42)\n",
    "for model in models:\n",
    "    print(\"-----------\")\n",
    "    print(model['model_name'])\n",
    "    \n",
    "    grid = GridSearchCV(model['model'],param_grid=model['params'],cv=cv,return_train_score=True)\n",
    "    grid.fit(X_train,y_train)\n",
    "    print(\"\\t\", grid.best_score_)\n",
    "    model['crossValidation'] = grid\n",
    "    evaluation.append(model)"
   ]
  },
  {
   "cell_type": "code",
   "execution_count": 87,
   "metadata": {},
   "outputs": [],
   "source": [
    "for model in models:\n",
    "    results = pd.DataFrame(model['crossValidation'].cv_results_).query(\"rank_test_score == 1\").iloc[0]\n",
    "    model['mean_test_score'],model['std_test_score'] = results['mean_test_score'],results['std_test_score']\n",
    "    model['mean_train_score'],model['std_train_score'] = results['mean_train_score'],results['std_train_score']"
   ]
  },
  {
   "cell_type": "code",
   "execution_count": 109,
   "metadata": {},
   "outputs": [
    {
     "data": {
      "text/html": [
       "<div>\n",
       "<style scoped>\n",
       "    .dataframe tbody tr th:only-of-type {\n",
       "        vertical-align: middle;\n",
       "    }\n",
       "\n",
       "    .dataframe tbody tr th {\n",
       "        vertical-align: top;\n",
       "    }\n",
       "\n",
       "    .dataframe thead th {\n",
       "        text-align: right;\n",
       "    }\n",
       "</style>\n",
       "<table border=\"1\" class=\"dataframe\">\n",
       "  <thead>\n",
       "    <tr style=\"text-align: right;\">\n",
       "      <th></th>\n",
       "      <th>model_name</th>\n",
       "      <th>mean_train_score</th>\n",
       "      <th>mean_test_score</th>\n",
       "      <th>std_train_score</th>\n",
       "      <th>std_test_score</th>\n",
       "    </tr>\n",
       "  </thead>\n",
       "  <tbody>\n",
       "    <tr>\n",
       "      <th>0</th>\n",
       "      <td>GradientBoostingRegressor</td>\n",
       "      <td>0.960</td>\n",
       "      <td>0.930</td>\n",
       "      <td>0.001</td>\n",
       "      <td>0.002</td>\n",
       "    </tr>\n",
       "    <tr>\n",
       "      <th>1</th>\n",
       "      <td>LinearSVR</td>\n",
       "      <td>0.765</td>\n",
       "      <td>0.765</td>\n",
       "      <td>0.001</td>\n",
       "      <td>0.001</td>\n",
       "    </tr>\n",
       "    <tr>\n",
       "      <th>2</th>\n",
       "      <td>RandomForestRegressor</td>\n",
       "      <td>0.989</td>\n",
       "      <td>0.933</td>\n",
       "      <td>0.000</td>\n",
       "      <td>0.002</td>\n",
       "    </tr>\n",
       "    <tr>\n",
       "      <th>3</th>\n",
       "      <td>ElasticNet</td>\n",
       "      <td>0.788</td>\n",
       "      <td>0.788</td>\n",
       "      <td>0.001</td>\n",
       "      <td>0.002</td>\n",
       "    </tr>\n",
       "    <tr>\n",
       "      <th>4</th>\n",
       "      <td>DecisionTreeRegressor</td>\n",
       "      <td>0.934</td>\n",
       "      <td>0.910</td>\n",
       "      <td>0.004</td>\n",
       "      <td>0.005</td>\n",
       "    </tr>\n",
       "    <tr>\n",
       "      <th>5</th>\n",
       "      <td>KNeighborsRegressor</td>\n",
       "      <td>0.935</td>\n",
       "      <td>0.909</td>\n",
       "      <td>0.001</td>\n",
       "      <td>0.003</td>\n",
       "    </tr>\n",
       "  </tbody>\n",
       "</table>\n",
       "</div>"
      ],
      "text/plain": [
       "                  model_name  mean_train_score  mean_test_score  \\\n",
       "0  GradientBoostingRegressor             0.960            0.930   \n",
       "1                  LinearSVR             0.765            0.765   \n",
       "2      RandomForestRegressor             0.989            0.933   \n",
       "3                 ElasticNet             0.788            0.788   \n",
       "4      DecisionTreeRegressor             0.934            0.910   \n",
       "5        KNeighborsRegressor             0.935            0.909   \n",
       "\n",
       "   std_train_score  std_test_score  \n",
       "0            0.001           0.002  \n",
       "1            0.001           0.001  \n",
       "2            0.000           0.002  \n",
       "3            0.001           0.002  \n",
       "4            0.004           0.005  \n",
       "5            0.001           0.003  "
      ]
     },
     "execution_count": 109,
     "metadata": {},
     "output_type": "execute_result"
    }
   ],
   "source": [
    "results = pd.DataFrame(models)\n",
    "results = results[['model_name','mean_train_score','mean_test_score','std_train_score','std_test_score']].round(3)\n",
    "results"
   ]
  },
  {
   "cell_type": "code",
   "execution_count": 110,
   "metadata": {},
   "outputs": [
    {
     "data": {
      "image/png": "[encoded data removed]",
      "text/plain": [
       "<Figure size 1152x216 with 1 Axes>"
      ]
     },
     "metadata": {},
     "output_type": "display_data"
    },
    {
     "data": {
      "image/png": "[encoded data removed]",
      "text/plain": [
       "<Figure size 1152x216 with 1 Axes>"
      ]
     },
     "metadata": {},
     "output_type": "display_data"
    }
   ],
   "source": [
    "results.sort_values('mean_train_score',inplace=True)\n",
    "plt.figure(figsize=(16,3))\n",
    "plt.title(\"Train Score\")\n",
    "ax = plt.bar(x=results['model_name'],height=results['mean_train_score'],yerr=results['std_train_score'],align='center', alpha=0.5, ecolor='black', capsize=10)\n",
    "plt.grid(axis='y')\n",
    "plt.ylim(0.7,1)\n",
    "plt.show()\n",
    "results.sort_values('mean_test_score',inplace=True)\n",
    "plt.figure(figsize=(16,3))\n",
    "plt.title(\"Test Score\")\n",
    "ax = plt.bar(x=results['model_name'],height=results['mean_test_score'],yerr=results['std_test_score'],align='center', alpha=0.5, ecolor='black', capsize=10)\n",
    "plt.grid(axis='y')\n",
    "plt.ylim(0.7,1)\n",
    "plt.show()"
   ]
  }
 ],
 "metadata": {
  "kernelspec": {
   "display_name": "Python 3",
   "language": "python",
   "name": "python3"
  },
  "language_info": {
   "codemirror_mode": {
    "name": "ipython",
    "version": 3
   },
   "file_extension": ".py",
   "mimetype": "text/x-python",
   "name": "python",
   "nbconvert_exporter": "python",
   "pygments_lexer": "ipython3",
   "version": "3.7.4"
  },
  "toc": {
   "base_numbering": 1,
   "nav_menu": {},
   "number_sections": true,
   "sideBar": true,
   "skip_h1_title": false,
   "title_cell": "Table of Contents",
   "title_sidebar": "Contents",
   "toc_cell": false,
   "toc_position": {},
   "toc_section_display": true,
   "toc_window_display": false
  }
 },
 "nbformat": 4,
 "nbformat_minor": 2
}
